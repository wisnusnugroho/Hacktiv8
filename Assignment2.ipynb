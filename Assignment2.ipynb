{
  "cells": [
    {
      "cell_type": "markdown",
      "metadata": {
        "id": "view-in-github",
        "colab_type": "text"
      },
      "source": [
        "<a href=\"https://colab.research.google.com/github/wisnusnugroho/Hacktiv8/blob/main/Assignment2.ipynb\" target=\"_parent\"><img src=\"https://colab.research.google.com/assets/colab-badge.svg\" alt=\"Open In Colab\"/></a>"
      ]
    },
    {
      "cell_type": "markdown",
      "metadata": {
        "id": "IBw06vJlo7Am"
      },
      "source": [
        "<img src = \"https://global-uploads.webflow.com/5f0d53c042a9ed6288de7f8d/5f6337ae2cfaa10946ceeb06_Hacktiv8%20logo%20horizontal%2001%20black-p-500.png\" width = 400>\n",
        "<h1 align=center><font size = 5>Hacktiv8 PTP Introduction to Data Science Projects 2 // Statistical Treatment for Datasets</font></h1>"
      ]
    },
    {
      "cell_type": "markdown",
      "metadata": {
        "id": "UZHYuOOLo7A9"
      },
      "source": [
        "Title: Hacktiv8 PTP Introduction to Data Science Projects 2: Statistical Treatment for Datasets Starter Notebook\n",
        "\n",
        "By: Wisnu Setia Nugroho\n"
      ]
    },
    {
      "cell_type": "markdown",
      "metadata": {
        "id": "1JHyRxJUo7BB"
      },
      "source": [
        "## Pengenalan Penjualan Properti NYC\n",
        "\n",
        "Tujuan dari proyek ini adalah untuk memperkenalkan Anda pada statistik praktis dengan Python sekonkret dan sekonsisten mungkin. Menggunakan apa yang telah Anda pelajari; unduh Kumpulan Data Penjualan Properti NYC dari Kaggle. Kumpulan data ini adalah catatan setiap bangunan atau unit bangunan (apartemen, dll.) yang terjual di pasar properti New York City selama periode 12 bulan.\n",
        "\n",
        "Dataset ini berisi tentang lokasi, alamat, jenis, harga jual, dan tanggal penjualan unit bangunan yang terjual. Referensi tentang bidang yang lebih rumit:\n",
        "\n",
        "* `BOROUGH`: Kode digit untuk borough tempat properti berada; dalam urutan ini adalah Manhattan (1), Bronx (2), Brooklyn (3), Queens (4), dan Staten Island (5).\n",
        "* `BLOCK`; `LOT`: Kombinasi borough, block, dan lot membentuk kunci unik untuk properti di New York City. Biasa disebut BBL.\n",
        "* `BUILDING CLASS SAAT INI` dan `BUILDING CLASS PADA SAAT PENJUALAN`: Jenis bangunan pada berbagai titik waktu.\n",
        "\n",
        "Perhatikan bahwa karena ini adalah kumpulan data transaksi keuangan, ada beberapa hal yang perlu diingat:\n",
        "\n",
        "* Banyak penjualan terjadi dengan jumlah dolar yang sangat kecil: $0 paling umum. Penjualan ini sebenarnya adalah transfer akta antar pihak: misalnya, orang tua mentransfer kepemilikan rumah mereka kepada seorang anak setelah pindah untuk pensiun.\n",
        "* Dataset ini menggunakan definisi keuangan dari sebuah bangunan/unit bangunan, untuk tujuan perpajakan. Dalam hal satu entitas memiliki bangunan yang bersangkutan, penjualan mencakup nilai seluruh bangunan. Dalam hal sebuah bangunan dimiliki sedikit demi sedikit oleh penghuninya (kondominium), penjualan mengacu pada satu apartemen (atau sekelompok apartemen) yang dimiliki oleh beberapa individu.\n",
        "\n",
        "Merumuskan pertanyaan dan menurunkan uji hipotesis statistik untuk menjawab pertanyaan tersebut. Anda harus menunjukkan bahwa Anda mampu membuat keputusan menggunakan data secara ilmiah. Contoh pertanyaan dapat berupa:\n",
        "\n",
        "* Apakah ada perbedaan unit yang terjual antara properti yang dibangun pada tahun 1900-2000 dan 2001 seterusnya?\n",
        "* Apakah ada perbedaan unit yang terjual berdasarkan kategori bangunan?\n",
        "* Apa yang dapat Anda temukan tentang real estat Kota New York dengan melihat catatan transaksi mentah selama satu tahun? Dapatkah Anda melihat tren di pasar?\n",
        "\n",
        "Harap pastikan bahwa Anda telah menyelesaikan pelajaran untuk kursus ini, yaitu Python dan Statistik Praktis yang merupakan bagian dari Program ini.\n",
        "\n",
        "**Catatan:** Anda dapat melihat Rubrik Proyek di bawah ini:\n",
        "\n",
        "| Tinjauan Kode | |\n",
        "| :--- | :--- |\n",
        "| KRITERIA | SPESIFIKASI |\n",
        "| Berarti | Siswa menerapkan mean ke kolom/data spesifik menggunakan panda, numpy, atau scipy|\n",
        "| Median | Siswa mengimplementasikan median ke kolom/data spesifik menggunakan pandas, numpy, atau scipy|\n",
        "| Modus | Siswa menerapkan modus ke kolom/data tertentu menggunakan pandas, numpy, atau scipy|\n",
        "| Tendensi Sentral | Menerapkan Tendensi Sentral melalui kumpulan data |\n",
        "| Petak Kotak | Menerapkan Box Plot untuk memvisualisasikan data tertentu |\n",
        "| Skor-Z | Menerapkan konsep Z-score ke data tertentu |\n",
        "| Distribusi Probabilitas | Siswa menganalisis distribusi data dan mendapatkan wawasan dari distribusi |\n",
        "| Interval | Menerapkan Interval Keyakinan atau Prediksi |\n",
        "| Pengujian Hipotesis | Buat 1 Hipotesis dan dapatkan kesimpulan dari data |\n",
        "| Prapemrosesan | Dataset preprocess siswa sebelum menerapkan perlakuan statistik. |\n",
        "| Apakah kode berjalan tanpa kesalahan? | Kode berjalan tanpa kesalahan. Semua kode berfungsi dan diformat dengan benar. |\n",
        "\n",
        "| Keterbacaan | |\n",
        "| :--- | :--- |\n",
        "| KRITERIA | SPESIFIKASI |\n",
        "| Terdokumentasi dengan Baik | Semua sel di notebook didokumentasikan dengan baik dengan penurunan harga di atas setiap sel yang menjelaskan kode|\n",
        "\n",
        "| Analisis | |\n",
        "| :--- | :--- |\n",
        "| KRITERIA | SPESIFIKASI |\n",
        "|Analisis Keseluruhan| Dapatkan wawasan/kesimpulan dari keseluruhan plot yang menjawab hipotesis |\n",
        "\n",
        "**Fokus pada bagian \"Fungsi Bertingkat\".**\n",
        "\n",
        "------------"
      ]
    },
    {
      "cell_type": "markdown",
      "metadata": {
        "id": "Iy0Xncvgo7BK"
      },
      "source": [
        "## Data Preparation\n",
        "\n",
        "Load the library you need.\n",
        "\n",
        "Dapatkan data properti NYC Anda dari [sini](https://www.kaggle.com/new-york-city/nyc-property-sales) dan muat kerangka data ke buku catatan Anda."
      ]
    },
    {
      "cell_type": "code",
      "execution_count": 1,
      "metadata": {
        "id": "lGW2XqTpo7BM"
      },
      "outputs": [],
      "source": [
        "# Get your import statement here\n",
        "import numpy as np\n",
        "import pandas as pd\n",
        "import seaborn as sns\n",
        "import matplotlib.pyplot as plt\n",
        "import statistics as stat\n",
        "from scipy import stats"
      ]
    },
    {
      "cell_type": "code",
      "source": [
        "df = pd.read_csv('https://raw.githubusercontent.com/wisnusnugroho/Hacktiv8/main/Data/nyc-rolling-sales.csv')"
      ],
      "metadata": {
        "id": "FNimr5ArrlV-"
      },
      "execution_count": 2,
      "outputs": []
    },
    {
      "cell_type": "markdown",
      "metadata": {
        "id": "PH6Uk1Qgo7BR"
      },
      "source": [
        "Mari kita lihat 5 baris teratas dari kumpulan data menggunakan fungsi `head()`."
      ]
    },
    {
      "cell_type": "code",
      "execution_count": 3,
      "metadata": {
        "colab": {
          "base_uri": "https://localhost:8080/",
          "height": 629
        },
        "id": "eV6bDJJAo7BT",
        "outputId": "a81cadfb-fe5e-4bb5-8a75-9f004d4df442"
      },
      "outputs": [
        {
          "output_type": "execute_result",
          "data": {
            "text/plain": [
              "   Unnamed: 0  BOROUGH   NEIGHBORHOOD  \\\n",
              "0           4        1  ALPHABET CITY   \n",
              "1           5        1  ALPHABET CITY   \n",
              "2           6        1  ALPHABET CITY   \n",
              "3           7        1  ALPHABET CITY   \n",
              "4           8        1  ALPHABET CITY   \n",
              "\n",
              "                       BUILDING CLASS CATEGORY TAX CLASS AT PRESENT  BLOCK  \\\n",
              "0  07 RENTALS - WALKUP APARTMENTS                                2A    392   \n",
              "1  07 RENTALS - WALKUP APARTMENTS                                 2    399   \n",
              "2  07 RENTALS - WALKUP APARTMENTS                                 2    399   \n",
              "3  07 RENTALS - WALKUP APARTMENTS                                2B    402   \n",
              "4  07 RENTALS - WALKUP APARTMENTS                                2A    404   \n",
              "\n",
              "   LOT EASE-MENT BUILDING CLASS AT PRESENT                 ADDRESS  ...  \\\n",
              "0    6                                  C2            153 AVENUE B  ...   \n",
              "1   26                                  C7   234 EAST 4TH   STREET  ...   \n",
              "2   39                                  C7   197 EAST 3RD   STREET  ...   \n",
              "3   21                                  C4     154 EAST 7TH STREET  ...   \n",
              "4   55                                  C2  301 EAST 10TH   STREET  ...   \n",
              "\n",
              "  RESIDENTIAL UNITS  COMMERCIAL UNITS  TOTAL UNITS  LAND SQUARE FEET  \\\n",
              "0                 5                 0            5              1633   \n",
              "1                28                 3           31              4616   \n",
              "2                16                 1           17              2212   \n",
              "3                10                 0           10              2272   \n",
              "4                 6                 0            6              2369   \n",
              "\n",
              "   GROSS SQUARE FEET YEAR BUILT TAX CLASS AT TIME OF SALE  \\\n",
              "0               6440       1900                         2   \n",
              "1              18690       1900                         2   \n",
              "2               7803       1900                         2   \n",
              "3               6794       1913                         2   \n",
              "4               4615       1900                         2   \n",
              "\n",
              "   BUILDING CLASS AT TIME OF SALE  SALE PRICE            SALE DATE  \n",
              "0                              C2     6625000  2017-07-19 00:00:00  \n",
              "1                              C7         -    2016-12-14 00:00:00  \n",
              "2                              C7         -    2016-12-09 00:00:00  \n",
              "3                              C4     3936272  2016-09-23 00:00:00  \n",
              "4                              C2     8000000  2016-11-17 00:00:00  \n",
              "\n",
              "[5 rows x 22 columns]"
            ],
            "text/html": [
              "\n",
              "  <div id=\"df-63576d74-e89a-46c9-b83a-6467c2a3ee5b\">\n",
              "    <div class=\"colab-df-container\">\n",
              "      <div>\n",
              "<style scoped>\n",
              "    .dataframe tbody tr th:only-of-type {\n",
              "        vertical-align: middle;\n",
              "    }\n",
              "\n",
              "    .dataframe tbody tr th {\n",
              "        vertical-align: top;\n",
              "    }\n",
              "\n",
              "    .dataframe thead th {\n",
              "        text-align: right;\n",
              "    }\n",
              "</style>\n",
              "<table border=\"1\" class=\"dataframe\">\n",
              "  <thead>\n",
              "    <tr style=\"text-align: right;\">\n",
              "      <th></th>\n",
              "      <th>Unnamed: 0</th>\n",
              "      <th>BOROUGH</th>\n",
              "      <th>NEIGHBORHOOD</th>\n",
              "      <th>BUILDING CLASS CATEGORY</th>\n",
              "      <th>TAX CLASS AT PRESENT</th>\n",
              "      <th>BLOCK</th>\n",
              "      <th>LOT</th>\n",
              "      <th>EASE-MENT</th>\n",
              "      <th>BUILDING CLASS AT PRESENT</th>\n",
              "      <th>ADDRESS</th>\n",
              "      <th>...</th>\n",
              "      <th>RESIDENTIAL UNITS</th>\n",
              "      <th>COMMERCIAL UNITS</th>\n",
              "      <th>TOTAL UNITS</th>\n",
              "      <th>LAND SQUARE FEET</th>\n",
              "      <th>GROSS SQUARE FEET</th>\n",
              "      <th>YEAR BUILT</th>\n",
              "      <th>TAX CLASS AT TIME OF SALE</th>\n",
              "      <th>BUILDING CLASS AT TIME OF SALE</th>\n",
              "      <th>SALE PRICE</th>\n",
              "      <th>SALE DATE</th>\n",
              "    </tr>\n",
              "  </thead>\n",
              "  <tbody>\n",
              "    <tr>\n",
              "      <th>0</th>\n",
              "      <td>4</td>\n",
              "      <td>1</td>\n",
              "      <td>ALPHABET CITY</td>\n",
              "      <td>07 RENTALS - WALKUP APARTMENTS</td>\n",
              "      <td>2A</td>\n",
              "      <td>392</td>\n",
              "      <td>6</td>\n",
              "      <td></td>\n",
              "      <td>C2</td>\n",
              "      <td>153 AVENUE B</td>\n",
              "      <td>...</td>\n",
              "      <td>5</td>\n",
              "      <td>0</td>\n",
              "      <td>5</td>\n",
              "      <td>1633</td>\n",
              "      <td>6440</td>\n",
              "      <td>1900</td>\n",
              "      <td>2</td>\n",
              "      <td>C2</td>\n",
              "      <td>6625000</td>\n",
              "      <td>2017-07-19 00:00:00</td>\n",
              "    </tr>\n",
              "    <tr>\n",
              "      <th>1</th>\n",
              "      <td>5</td>\n",
              "      <td>1</td>\n",
              "      <td>ALPHABET CITY</td>\n",
              "      <td>07 RENTALS - WALKUP APARTMENTS</td>\n",
              "      <td>2</td>\n",
              "      <td>399</td>\n",
              "      <td>26</td>\n",
              "      <td></td>\n",
              "      <td>C7</td>\n",
              "      <td>234 EAST 4TH   STREET</td>\n",
              "      <td>...</td>\n",
              "      <td>28</td>\n",
              "      <td>3</td>\n",
              "      <td>31</td>\n",
              "      <td>4616</td>\n",
              "      <td>18690</td>\n",
              "      <td>1900</td>\n",
              "      <td>2</td>\n",
              "      <td>C7</td>\n",
              "      <td>-</td>\n",
              "      <td>2016-12-14 00:00:00</td>\n",
              "    </tr>\n",
              "    <tr>\n",
              "      <th>2</th>\n",
              "      <td>6</td>\n",
              "      <td>1</td>\n",
              "      <td>ALPHABET CITY</td>\n",
              "      <td>07 RENTALS - WALKUP APARTMENTS</td>\n",
              "      <td>2</td>\n",
              "      <td>399</td>\n",
              "      <td>39</td>\n",
              "      <td></td>\n",
              "      <td>C7</td>\n",
              "      <td>197 EAST 3RD   STREET</td>\n",
              "      <td>...</td>\n",
              "      <td>16</td>\n",
              "      <td>1</td>\n",
              "      <td>17</td>\n",
              "      <td>2212</td>\n",
              "      <td>7803</td>\n",
              "      <td>1900</td>\n",
              "      <td>2</td>\n",
              "      <td>C7</td>\n",
              "      <td>-</td>\n",
              "      <td>2016-12-09 00:00:00</td>\n",
              "    </tr>\n",
              "    <tr>\n",
              "      <th>3</th>\n",
              "      <td>7</td>\n",
              "      <td>1</td>\n",
              "      <td>ALPHABET CITY</td>\n",
              "      <td>07 RENTALS - WALKUP APARTMENTS</td>\n",
              "      <td>2B</td>\n",
              "      <td>402</td>\n",
              "      <td>21</td>\n",
              "      <td></td>\n",
              "      <td>C4</td>\n",
              "      <td>154 EAST 7TH STREET</td>\n",
              "      <td>...</td>\n",
              "      <td>10</td>\n",
              "      <td>0</td>\n",
              "      <td>10</td>\n",
              "      <td>2272</td>\n",
              "      <td>6794</td>\n",
              "      <td>1913</td>\n",
              "      <td>2</td>\n",
              "      <td>C4</td>\n",
              "      <td>3936272</td>\n",
              "      <td>2016-09-23 00:00:00</td>\n",
              "    </tr>\n",
              "    <tr>\n",
              "      <th>4</th>\n",
              "      <td>8</td>\n",
              "      <td>1</td>\n",
              "      <td>ALPHABET CITY</td>\n",
              "      <td>07 RENTALS - WALKUP APARTMENTS</td>\n",
              "      <td>2A</td>\n",
              "      <td>404</td>\n",
              "      <td>55</td>\n",
              "      <td></td>\n",
              "      <td>C2</td>\n",
              "      <td>301 EAST 10TH   STREET</td>\n",
              "      <td>...</td>\n",
              "      <td>6</td>\n",
              "      <td>0</td>\n",
              "      <td>6</td>\n",
              "      <td>2369</td>\n",
              "      <td>4615</td>\n",
              "      <td>1900</td>\n",
              "      <td>2</td>\n",
              "      <td>C2</td>\n",
              "      <td>8000000</td>\n",
              "      <td>2016-11-17 00:00:00</td>\n",
              "    </tr>\n",
              "  </tbody>\n",
              "</table>\n",
              "<p>5 rows × 22 columns</p>\n",
              "</div>\n",
              "      <button class=\"colab-df-convert\" onclick=\"convertToInteractive('df-63576d74-e89a-46c9-b83a-6467c2a3ee5b')\"\n",
              "              title=\"Convert this dataframe to an interactive table.\"\n",
              "              style=\"display:none;\">\n",
              "        \n",
              "  <svg xmlns=\"http://www.w3.org/2000/svg\" height=\"24px\"viewBox=\"0 0 24 24\"\n",
              "       width=\"24px\">\n",
              "    <path d=\"M0 0h24v24H0V0z\" fill=\"none\"/>\n",
              "    <path d=\"M18.56 5.44l.94 2.06.94-2.06 2.06-.94-2.06-.94-.94-2.06-.94 2.06-2.06.94zm-11 1L8.5 8.5l.94-2.06 2.06-.94-2.06-.94L8.5 2.5l-.94 2.06-2.06.94zm10 10l.94 2.06.94-2.06 2.06-.94-2.06-.94-.94-2.06-.94 2.06-2.06.94z\"/><path d=\"M17.41 7.96l-1.37-1.37c-.4-.4-.92-.59-1.43-.59-.52 0-1.04.2-1.43.59L10.3 9.45l-7.72 7.72c-.78.78-.78 2.05 0 2.83L4 21.41c.39.39.9.59 1.41.59.51 0 1.02-.2 1.41-.59l7.78-7.78 2.81-2.81c.8-.78.8-2.07 0-2.86zM5.41 20L4 18.59l7.72-7.72 1.47 1.35L5.41 20z\"/>\n",
              "  </svg>\n",
              "      </button>\n",
              "      \n",
              "  <style>\n",
              "    .colab-df-container {\n",
              "      display:flex;\n",
              "      flex-wrap:wrap;\n",
              "      gap: 12px;\n",
              "    }\n",
              "\n",
              "    .colab-df-convert {\n",
              "      background-color: #E8F0FE;\n",
              "      border: none;\n",
              "      border-radius: 50%;\n",
              "      cursor: pointer;\n",
              "      display: none;\n",
              "      fill: #1967D2;\n",
              "      height: 32px;\n",
              "      padding: 0 0 0 0;\n",
              "      width: 32px;\n",
              "    }\n",
              "\n",
              "    .colab-df-convert:hover {\n",
              "      background-color: #E2EBFA;\n",
              "      box-shadow: 0px 1px 2px rgba(60, 64, 67, 0.3), 0px 1px 3px 1px rgba(60, 64, 67, 0.15);\n",
              "      fill: #174EA6;\n",
              "    }\n",
              "\n",
              "    [theme=dark] .colab-df-convert {\n",
              "      background-color: #3B4455;\n",
              "      fill: #D2E3FC;\n",
              "    }\n",
              "\n",
              "    [theme=dark] .colab-df-convert:hover {\n",
              "      background-color: #434B5C;\n",
              "      box-shadow: 0px 1px 3px 1px rgba(0, 0, 0, 0.15);\n",
              "      filter: drop-shadow(0px 1px 2px rgba(0, 0, 0, 0.3));\n",
              "      fill: #FFFFFF;\n",
              "    }\n",
              "  </style>\n",
              "\n",
              "      <script>\n",
              "        const buttonEl =\n",
              "          document.querySelector('#df-63576d74-e89a-46c9-b83a-6467c2a3ee5b button.colab-df-convert');\n",
              "        buttonEl.style.display =\n",
              "          google.colab.kernel.accessAllowed ? 'block' : 'none';\n",
              "\n",
              "        async function convertToInteractive(key) {\n",
              "          const element = document.querySelector('#df-63576d74-e89a-46c9-b83a-6467c2a3ee5b');\n",
              "          const dataTable =\n",
              "            await google.colab.kernel.invokeFunction('convertToInteractive',\n",
              "                                                     [key], {});\n",
              "          if (!dataTable) return;\n",
              "\n",
              "          const docLinkHtml = 'Like what you see? Visit the ' +\n",
              "            '<a target=\"_blank\" href=https://colab.research.google.com/notebooks/data_table.ipynb>data table notebook</a>'\n",
              "            + ' to learn more about interactive tables.';\n",
              "          element.innerHTML = '';\n",
              "          dataTable['output_type'] = 'display_data';\n",
              "          await google.colab.output.renderOutput(dataTable, element);\n",
              "          const docLink = document.createElement('div');\n",
              "          docLink.innerHTML = docLinkHtml;\n",
              "          element.appendChild(docLink);\n",
              "        }\n",
              "      </script>\n",
              "    </div>\n",
              "  </div>\n",
              "  "
            ]
          },
          "metadata": {},
          "execution_count": 3
        }
      ],
      "source": [
        "# Write your syntax here\n",
        "df.head()"
      ]
    },
    {
      "cell_type": "markdown",
      "metadata": {
        "id": "mTf565rJo7BZ"
      },
      "source": [
        "BOROUGH: Kode digit untuk borough tempat properti tersebut berada; dalam urutan ini adalah Manhattan (1), Bronx (2), Brooklyn (3), Queens (4), dan Staten Island (5)."
      ]
    },
    {
      "cell_type": "markdown",
      "metadata": {
        "id": "aRGEDCsVo7BZ"
      },
      "source": [
        "Untuk melihat dimensi kerangka data, kami menggunakan parameter `.shape`. Hasil yang diharapkan: (84548, 22)"
      ]
    },
    {
      "cell_type": "code",
      "execution_count": 4,
      "metadata": {
        "colab": {
          "base_uri": "https://localhost:8080/"
        },
        "id": "58ruQavZo7Ba",
        "outputId": "005ceb59-18c6-4361-f04f-3c96781d40fe"
      },
      "outputs": [
        {
          "output_type": "execute_result",
          "data": {
            "text/plain": [
              "(84548, 22)"
            ]
          },
          "metadata": {},
          "execution_count": 4
        }
      ],
      "source": [
        "# Write your syntax here\n",
        "df.shape"
      ]
    },
    {
      "cell_type": "markdown",
      "metadata": {
        "id": "QiQJNdB2o7Ba"
      },
      "source": [
        "Menurut halaman resmi ini, Kemudahan adalah \"adalah hak, seperti hak jalan, yang memungkinkan suatu entitas untuk menggunakan properti nyata orang lain secara terbatas. Misalnya: rel kereta api MTA yang melintasi sebagian properti lain\" . Juga, kolom Tanpa Nama tidak disebutkan dan kemungkinan digunakan untuk iterasi melalui catatan. Jadi, kedua kolom itu dihapus untuk saat ini."
      ]
    },
    {
      "cell_type": "code",
      "execution_count": 5,
      "metadata": {
        "id": "8bSwz5QGo7Bb"
      },
      "outputs": [],
      "source": [
        "# Drop 'Unnamed: 0' and 'EASE-MENT' features using .drop function\n",
        "df = df.drop(columns=['Unnamed: 0','EASE-MENT'])\n"
      ]
    },
    {
      "cell_type": "markdown",
      "metadata": {
        "id": "IPzpO02No7Bb"
      },
      "source": [
        "Mari kita lihat Dtype dari setiap fitur dalam kerangka data menggunakan fungsi `.info()`."
      ]
    },
    {
      "cell_type": "code",
      "execution_count": 6,
      "metadata": {
        "colab": {
          "base_uri": "https://localhost:8080/"
        },
        "id": "YvVsaA6Xo7Bc",
        "outputId": "9d86f46c-b753-4585-c10b-3e7ef04dda4a"
      },
      "outputs": [
        {
          "output_type": "stream",
          "name": "stdout",
          "text": [
            "<class 'pandas.core.frame.DataFrame'>\n",
            "RangeIndex: 84548 entries, 0 to 84547\n",
            "Data columns (total 20 columns):\n",
            " #   Column                          Non-Null Count  Dtype \n",
            "---  ------                          --------------  ----- \n",
            " 0   BOROUGH                         84548 non-null  int64 \n",
            " 1   NEIGHBORHOOD                    84548 non-null  object\n",
            " 2   BUILDING CLASS CATEGORY         84548 non-null  object\n",
            " 3   TAX CLASS AT PRESENT            84548 non-null  object\n",
            " 4   BLOCK                           84548 non-null  int64 \n",
            " 5   LOT                             84548 non-null  int64 \n",
            " 6   BUILDING CLASS AT PRESENT       84548 non-null  object\n",
            " 7   ADDRESS                         84548 non-null  object\n",
            " 8   APARTMENT NUMBER                84548 non-null  object\n",
            " 9   ZIP CODE                        84548 non-null  int64 \n",
            " 10  RESIDENTIAL UNITS               84548 non-null  int64 \n",
            " 11  COMMERCIAL UNITS                84548 non-null  int64 \n",
            " 12  TOTAL UNITS                     84548 non-null  int64 \n",
            " 13  LAND SQUARE FEET                84548 non-null  object\n",
            " 14  GROSS SQUARE FEET               84548 non-null  object\n",
            " 15  YEAR BUILT                      84548 non-null  int64 \n",
            " 16  TAX CLASS AT TIME OF SALE       84548 non-null  int64 \n",
            " 17  BUILDING CLASS AT TIME OF SALE  84548 non-null  object\n",
            " 18  SALE PRICE                      84548 non-null  object\n",
            " 19  SALE DATE                       84548 non-null  object\n",
            "dtypes: int64(9), object(11)\n",
            "memory usage: 12.9+ MB\n"
          ]
        }
      ],
      "source": [
        "df.info()"
      ]
    },
    {
      "cell_type": "markdown",
      "metadata": {
        "id": "o_ftOVWno7Bh"
      },
      "source": [
        "## Exploratory data analysis (EDA) for Price Per_Unit"
      ]
    },
    {
      "cell_type": "markdown",
      "metadata": {
        "id": "66EOKtcWo7Bh"
      },
      "source": [
        "####Sekarang, mari kita dapatkan statistik deskriptif sederhana dengan fungsi `.describe()` untuk fitur `COMMERCIAL UNITS`."
      ]
    },
    {
      "cell_type": "code",
      "execution_count": 9,
      "metadata": {
        "colab": {
          "base_uri": "https://localhost:8080/",
          "height": 300
        },
        "id": "cizRmyf-o7Bh",
        "outputId": "a80ad3dc-a5d0-4e89-8995-5243faec43da"
      },
      "outputs": [
        {
          "output_type": "execute_result",
          "data": {
            "text/plain": [
              "            BOROUGH         BLOCK           LOT      ZIP CODE  \\\n",
              "count  79429.000000  79429.000000  79429.000000  79429.000000   \n",
              "mean       3.004797   4270.584018    395.803699  10721.690503   \n",
              "std        1.299437   3588.993150    671.927040   1320.121756   \n",
              "min        1.000000      1.000000      1.000000      0.000000   \n",
              "25%        2.000000   1330.000000     23.000000  10304.000000   \n",
              "50%        3.000000   3335.000000     52.000000  11209.000000   \n",
              "75%        4.000000   6354.000000   1003.000000  11357.000000   \n",
              "max        5.000000  16322.000000   9106.000000  11694.000000   \n",
              "\n",
              "       RESIDENTIAL UNITS  COMMERCIAL UNITS   TOTAL UNITS    YEAR BUILT  \\\n",
              "count       79429.000000           79429.0  79429.000000  79429.000000   \n",
              "mean            1.717257               0.0      1.750217   1780.395787   \n",
              "std            10.146362               0.0     10.142353    551.999810   \n",
              "min             0.000000               0.0      0.000000      0.000000   \n",
              "25%             0.000000               0.0      1.000000   1920.000000   \n",
              "50%             1.000000               0.0      1.000000   1940.000000   \n",
              "75%             2.000000               0.0      2.000000   1967.000000   \n",
              "max           889.000000               0.0    889.000000   2017.000000   \n",
              "\n",
              "       TAX CLASS AT TIME OF SALE  \n",
              "count               79429.000000  \n",
              "mean                    1.584258  \n",
              "std                     0.720488  \n",
              "min                     1.000000  \n",
              "25%                     1.000000  \n",
              "50%                     1.000000  \n",
              "75%                     2.000000  \n",
              "max                     4.000000  "
            ],
            "text/html": [
              "\n",
              "  <div id=\"df-67783133-9d2c-4970-8b2a-0a0880a3baa8\">\n",
              "    <div class=\"colab-df-container\">\n",
              "      <div>\n",
              "<style scoped>\n",
              "    .dataframe tbody tr th:only-of-type {\n",
              "        vertical-align: middle;\n",
              "    }\n",
              "\n",
              "    .dataframe tbody tr th {\n",
              "        vertical-align: top;\n",
              "    }\n",
              "\n",
              "    .dataframe thead th {\n",
              "        text-align: right;\n",
              "    }\n",
              "</style>\n",
              "<table border=\"1\" class=\"dataframe\">\n",
              "  <thead>\n",
              "    <tr style=\"text-align: right;\">\n",
              "      <th></th>\n",
              "      <th>BOROUGH</th>\n",
              "      <th>BLOCK</th>\n",
              "      <th>LOT</th>\n",
              "      <th>ZIP CODE</th>\n",
              "      <th>RESIDENTIAL UNITS</th>\n",
              "      <th>COMMERCIAL UNITS</th>\n",
              "      <th>TOTAL UNITS</th>\n",
              "      <th>YEAR BUILT</th>\n",
              "      <th>TAX CLASS AT TIME OF SALE</th>\n",
              "    </tr>\n",
              "  </thead>\n",
              "  <tbody>\n",
              "    <tr>\n",
              "      <th>count</th>\n",
              "      <td>79429.000000</td>\n",
              "      <td>79429.000000</td>\n",
              "      <td>79429.000000</td>\n",
              "      <td>79429.000000</td>\n",
              "      <td>79429.000000</td>\n",
              "      <td>79429.0</td>\n",
              "      <td>79429.000000</td>\n",
              "      <td>79429.000000</td>\n",
              "      <td>79429.000000</td>\n",
              "    </tr>\n",
              "    <tr>\n",
              "      <th>mean</th>\n",
              "      <td>3.004797</td>\n",
              "      <td>4270.584018</td>\n",
              "      <td>395.803699</td>\n",
              "      <td>10721.690503</td>\n",
              "      <td>1.717257</td>\n",
              "      <td>0.0</td>\n",
              "      <td>1.750217</td>\n",
              "      <td>1780.395787</td>\n",
              "      <td>1.584258</td>\n",
              "    </tr>\n",
              "    <tr>\n",
              "      <th>std</th>\n",
              "      <td>1.299437</td>\n",
              "      <td>3588.993150</td>\n",
              "      <td>671.927040</td>\n",
              "      <td>1320.121756</td>\n",
              "      <td>10.146362</td>\n",
              "      <td>0.0</td>\n",
              "      <td>10.142353</td>\n",
              "      <td>551.999810</td>\n",
              "      <td>0.720488</td>\n",
              "    </tr>\n",
              "    <tr>\n",
              "      <th>min</th>\n",
              "      <td>1.000000</td>\n",
              "      <td>1.000000</td>\n",
              "      <td>1.000000</td>\n",
              "      <td>0.000000</td>\n",
              "      <td>0.000000</td>\n",
              "      <td>0.0</td>\n",
              "      <td>0.000000</td>\n",
              "      <td>0.000000</td>\n",
              "      <td>1.000000</td>\n",
              "    </tr>\n",
              "    <tr>\n",
              "      <th>25%</th>\n",
              "      <td>2.000000</td>\n",
              "      <td>1330.000000</td>\n",
              "      <td>23.000000</td>\n",
              "      <td>10304.000000</td>\n",
              "      <td>0.000000</td>\n",
              "      <td>0.0</td>\n",
              "      <td>1.000000</td>\n",
              "      <td>1920.000000</td>\n",
              "      <td>1.000000</td>\n",
              "    </tr>\n",
              "    <tr>\n",
              "      <th>50%</th>\n",
              "      <td>3.000000</td>\n",
              "      <td>3335.000000</td>\n",
              "      <td>52.000000</td>\n",
              "      <td>11209.000000</td>\n",
              "      <td>1.000000</td>\n",
              "      <td>0.0</td>\n",
              "      <td>1.000000</td>\n",
              "      <td>1940.000000</td>\n",
              "      <td>1.000000</td>\n",
              "    </tr>\n",
              "    <tr>\n",
              "      <th>75%</th>\n",
              "      <td>4.000000</td>\n",
              "      <td>6354.000000</td>\n",
              "      <td>1003.000000</td>\n",
              "      <td>11357.000000</td>\n",
              "      <td>2.000000</td>\n",
              "      <td>0.0</td>\n",
              "      <td>2.000000</td>\n",
              "      <td>1967.000000</td>\n",
              "      <td>2.000000</td>\n",
              "    </tr>\n",
              "    <tr>\n",
              "      <th>max</th>\n",
              "      <td>5.000000</td>\n",
              "      <td>16322.000000</td>\n",
              "      <td>9106.000000</td>\n",
              "      <td>11694.000000</td>\n",
              "      <td>889.000000</td>\n",
              "      <td>0.0</td>\n",
              "      <td>889.000000</td>\n",
              "      <td>2017.000000</td>\n",
              "      <td>4.000000</td>\n",
              "    </tr>\n",
              "  </tbody>\n",
              "</table>\n",
              "</div>\n",
              "      <button class=\"colab-df-convert\" onclick=\"convertToInteractive('df-67783133-9d2c-4970-8b2a-0a0880a3baa8')\"\n",
              "              title=\"Convert this dataframe to an interactive table.\"\n",
              "              style=\"display:none;\">\n",
              "        \n",
              "  <svg xmlns=\"http://www.w3.org/2000/svg\" height=\"24px\"viewBox=\"0 0 24 24\"\n",
              "       width=\"24px\">\n",
              "    <path d=\"M0 0h24v24H0V0z\" fill=\"none\"/>\n",
              "    <path d=\"M18.56 5.44l.94 2.06.94-2.06 2.06-.94-2.06-.94-.94-2.06-.94 2.06-2.06.94zm-11 1L8.5 8.5l.94-2.06 2.06-.94-2.06-.94L8.5 2.5l-.94 2.06-2.06.94zm10 10l.94 2.06.94-2.06 2.06-.94-2.06-.94-.94-2.06-.94 2.06-2.06.94z\"/><path d=\"M17.41 7.96l-1.37-1.37c-.4-.4-.92-.59-1.43-.59-.52 0-1.04.2-1.43.59L10.3 9.45l-7.72 7.72c-.78.78-.78 2.05 0 2.83L4 21.41c.39.39.9.59 1.41.59.51 0 1.02-.2 1.41-.59l7.78-7.78 2.81-2.81c.8-.78.8-2.07 0-2.86zM5.41 20L4 18.59l7.72-7.72 1.47 1.35L5.41 20z\"/>\n",
              "  </svg>\n",
              "      </button>\n",
              "      \n",
              "  <style>\n",
              "    .colab-df-container {\n",
              "      display:flex;\n",
              "      flex-wrap:wrap;\n",
              "      gap: 12px;\n",
              "    }\n",
              "\n",
              "    .colab-df-convert {\n",
              "      background-color: #E8F0FE;\n",
              "      border: none;\n",
              "      border-radius: 50%;\n",
              "      cursor: pointer;\n",
              "      display: none;\n",
              "      fill: #1967D2;\n",
              "      height: 32px;\n",
              "      padding: 0 0 0 0;\n",
              "      width: 32px;\n",
              "    }\n",
              "\n",
              "    .colab-df-convert:hover {\n",
              "      background-color: #E2EBFA;\n",
              "      box-shadow: 0px 1px 2px rgba(60, 64, 67, 0.3), 0px 1px 3px 1px rgba(60, 64, 67, 0.15);\n",
              "      fill: #174EA6;\n",
              "    }\n",
              "\n",
              "    [theme=dark] .colab-df-convert {\n",
              "      background-color: #3B4455;\n",
              "      fill: #D2E3FC;\n",
              "    }\n",
              "\n",
              "    [theme=dark] .colab-df-convert:hover {\n",
              "      background-color: #434B5C;\n",
              "      box-shadow: 0px 1px 3px 1px rgba(0, 0, 0, 0.15);\n",
              "      filter: drop-shadow(0px 1px 2px rgba(0, 0, 0, 0.3));\n",
              "      fill: #FFFFFF;\n",
              "    }\n",
              "  </style>\n",
              "\n",
              "      <script>\n",
              "        const buttonEl =\n",
              "          document.querySelector('#df-67783133-9d2c-4970-8b2a-0a0880a3baa8 button.colab-df-convert');\n",
              "        buttonEl.style.display =\n",
              "          google.colab.kernel.accessAllowed ? 'block' : 'none';\n",
              "\n",
              "        async function convertToInteractive(key) {\n",
              "          const element = document.querySelector('#df-67783133-9d2c-4970-8b2a-0a0880a3baa8');\n",
              "          const dataTable =\n",
              "            await google.colab.kernel.invokeFunction('convertToInteractive',\n",
              "                                                     [key], {});\n",
              "          if (!dataTable) return;\n",
              "\n",
              "          const docLinkHtml = 'Like what you see? Visit the ' +\n",
              "            '<a target=\"_blank\" href=https://colab.research.google.com/notebooks/data_table.ipynb>data table notebook</a>'\n",
              "            + ' to learn more about interactive tables.';\n",
              "          element.innerHTML = '';\n",
              "          dataTable['output_type'] = 'display_data';\n",
              "          await google.colab.output.renderOutput(dataTable, element);\n",
              "          const docLink = document.createElement('div');\n",
              "          docLink.innerHTML = docLinkHtml;\n",
              "          element.appendChild(docLink);\n",
              "        }\n",
              "      </script>\n",
              "    </div>\n",
              "  </div>\n",
              "  "
            ]
          },
          "metadata": {},
          "execution_count": 9
        }
      ],
      "source": [
        "df[df['COMMERCIAL UNITS']==0].describe()"
      ]
    },
    {
      "cell_type": "markdown",
      "metadata": {
        "id": "IcbVYdcdo7Bi"
      },
      "source": [
        "Mari kita coba memahami kolom. Tabel di atas menunjukkan statistik deskriptif untuk kolom numerik.\n",
        "\n",
        "- Terdapat kode pos dengan nilai 0\n",
        "- Bisakah nomor blok/lot naik ke 16322?\n",
        "- Sebagian besar properti memiliki 2 unit dan maksimum 889 unit? Yang terakhir mungkin berarti beberapa perusahaan membeli sebuah bangunan. Ini harus diperlakukan sebagai outlier.\n",
        "- Kolom lain juga memiliki outlier yang perlu diselidiki lebih lanjut.\n",
        "- Kolom tahun memiliki tahun dengan 0\n",
        "- Sebagian besar harga jual kurang dari 10.000 dapat diperlakukan sebagai hadiah atau biaya transfer."
      ]
    },
    {
      "cell_type": "markdown",
      "metadata": {
        "id": "aPYyq1WDo7Bi"
      },
      "source": [
        "####Sekarang, mari kita dapatkan statistik deskriptif sederhana dengan fungsi `.describe()` untuk fitur `SALE PRICE`.\n",
        "\n",
        "Fungsi di bawah ini adalah fungsi bertingkat. (1 Poin)"
      ]
    },
    {
      "cell_type": "code",
      "execution_count": 10,
      "metadata": {
        "colab": {
          "base_uri": "https://localhost:8080/",
          "height": 300
        },
        "id": "gzkIaM7Go7Bi",
        "outputId": "6b8e7f1f-3a4f-4f95-b13b-bf9f13ec5f42"
      },
      "outputs": [
        {
          "output_type": "execute_result",
          "data": {
            "text/plain": [
              "            BOROUGH         BLOCK           LOT      ZIP CODE  \\\n",
              "count  84548.000000  84548.000000  84548.000000  84548.000000   \n",
              "mean       2.998758   4237.218976    376.224015  10731.991614   \n",
              "std        1.289790   3568.263407    658.136814   1290.879147   \n",
              "min        1.000000      1.000000      1.000000      0.000000   \n",
              "25%        2.000000   1322.750000     22.000000  10305.000000   \n",
              "50%        3.000000   3311.000000     50.000000  11209.000000   \n",
              "75%        4.000000   6281.000000   1001.000000  11357.000000   \n",
              "max        5.000000  16322.000000   9106.000000  11694.000000   \n",
              "\n",
              "       RESIDENTIAL UNITS  COMMERCIAL UNITS   TOTAL UNITS    YEAR BUILT  \\\n",
              "count       84548.000000      84548.000000  84548.000000  84548.000000   \n",
              "mean            2.025264          0.193559      2.249184   1789.322976   \n",
              "std            16.721037          8.713183     18.972584    537.344993   \n",
              "min             0.000000          0.000000      0.000000      0.000000   \n",
              "25%             0.000000          0.000000      1.000000   1920.000000   \n",
              "50%             1.000000          0.000000      1.000000   1940.000000   \n",
              "75%             2.000000          0.000000      2.000000   1965.000000   \n",
              "max          1844.000000       2261.000000   2261.000000   2017.000000   \n",
              "\n",
              "       TAX CLASS AT TIME OF SALE  \n",
              "count               84548.000000  \n",
              "mean                    1.657485  \n",
              "std                     0.819341  \n",
              "min                     1.000000  \n",
              "25%                     1.000000  \n",
              "50%                     2.000000  \n",
              "75%                     2.000000  \n",
              "max                     4.000000  "
            ],
            "text/html": [
              "\n",
              "  <div id=\"df-a9623113-718a-425e-9e23-756c07447baf\">\n",
              "    <div class=\"colab-df-container\">\n",
              "      <div>\n",
              "<style scoped>\n",
              "    .dataframe tbody tr th:only-of-type {\n",
              "        vertical-align: middle;\n",
              "    }\n",
              "\n",
              "    .dataframe tbody tr th {\n",
              "        vertical-align: top;\n",
              "    }\n",
              "\n",
              "    .dataframe thead th {\n",
              "        text-align: right;\n",
              "    }\n",
              "</style>\n",
              "<table border=\"1\" class=\"dataframe\">\n",
              "  <thead>\n",
              "    <tr style=\"text-align: right;\">\n",
              "      <th></th>\n",
              "      <th>BOROUGH</th>\n",
              "      <th>BLOCK</th>\n",
              "      <th>LOT</th>\n",
              "      <th>ZIP CODE</th>\n",
              "      <th>RESIDENTIAL UNITS</th>\n",
              "      <th>COMMERCIAL UNITS</th>\n",
              "      <th>TOTAL UNITS</th>\n",
              "      <th>YEAR BUILT</th>\n",
              "      <th>TAX CLASS AT TIME OF SALE</th>\n",
              "    </tr>\n",
              "  </thead>\n",
              "  <tbody>\n",
              "    <tr>\n",
              "      <th>count</th>\n",
              "      <td>84548.000000</td>\n",
              "      <td>84548.000000</td>\n",
              "      <td>84548.000000</td>\n",
              "      <td>84548.000000</td>\n",
              "      <td>84548.000000</td>\n",
              "      <td>84548.000000</td>\n",
              "      <td>84548.000000</td>\n",
              "      <td>84548.000000</td>\n",
              "      <td>84548.000000</td>\n",
              "    </tr>\n",
              "    <tr>\n",
              "      <th>mean</th>\n",
              "      <td>2.998758</td>\n",
              "      <td>4237.218976</td>\n",
              "      <td>376.224015</td>\n",
              "      <td>10731.991614</td>\n",
              "      <td>2.025264</td>\n",
              "      <td>0.193559</td>\n",
              "      <td>2.249184</td>\n",
              "      <td>1789.322976</td>\n",
              "      <td>1.657485</td>\n",
              "    </tr>\n",
              "    <tr>\n",
              "      <th>std</th>\n",
              "      <td>1.289790</td>\n",
              "      <td>3568.263407</td>\n",
              "      <td>658.136814</td>\n",
              "      <td>1290.879147</td>\n",
              "      <td>16.721037</td>\n",
              "      <td>8.713183</td>\n",
              "      <td>18.972584</td>\n",
              "      <td>537.344993</td>\n",
              "      <td>0.819341</td>\n",
              "    </tr>\n",
              "    <tr>\n",
              "      <th>min</th>\n",
              "      <td>1.000000</td>\n",
              "      <td>1.000000</td>\n",
              "      <td>1.000000</td>\n",
              "      <td>0.000000</td>\n",
              "      <td>0.000000</td>\n",
              "      <td>0.000000</td>\n",
              "      <td>0.000000</td>\n",
              "      <td>0.000000</td>\n",
              "      <td>1.000000</td>\n",
              "    </tr>\n",
              "    <tr>\n",
              "      <th>25%</th>\n",
              "      <td>2.000000</td>\n",
              "      <td>1322.750000</td>\n",
              "      <td>22.000000</td>\n",
              "      <td>10305.000000</td>\n",
              "      <td>0.000000</td>\n",
              "      <td>0.000000</td>\n",
              "      <td>1.000000</td>\n",
              "      <td>1920.000000</td>\n",
              "      <td>1.000000</td>\n",
              "    </tr>\n",
              "    <tr>\n",
              "      <th>50%</th>\n",
              "      <td>3.000000</td>\n",
              "      <td>3311.000000</td>\n",
              "      <td>50.000000</td>\n",
              "      <td>11209.000000</td>\n",
              "      <td>1.000000</td>\n",
              "      <td>0.000000</td>\n",
              "      <td>1.000000</td>\n",
              "      <td>1940.000000</td>\n",
              "      <td>2.000000</td>\n",
              "    </tr>\n",
              "    <tr>\n",
              "      <th>75%</th>\n",
              "      <td>4.000000</td>\n",
              "      <td>6281.000000</td>\n",
              "      <td>1001.000000</td>\n",
              "      <td>11357.000000</td>\n",
              "      <td>2.000000</td>\n",
              "      <td>0.000000</td>\n",
              "      <td>2.000000</td>\n",
              "      <td>1965.000000</td>\n",
              "      <td>2.000000</td>\n",
              "    </tr>\n",
              "    <tr>\n",
              "      <th>max</th>\n",
              "      <td>5.000000</td>\n",
              "      <td>16322.000000</td>\n",
              "      <td>9106.000000</td>\n",
              "      <td>11694.000000</td>\n",
              "      <td>1844.000000</td>\n",
              "      <td>2261.000000</td>\n",
              "      <td>2261.000000</td>\n",
              "      <td>2017.000000</td>\n",
              "      <td>4.000000</td>\n",
              "    </tr>\n",
              "  </tbody>\n",
              "</table>\n",
              "</div>\n",
              "      <button class=\"colab-df-convert\" onclick=\"convertToInteractive('df-a9623113-718a-425e-9e23-756c07447baf')\"\n",
              "              title=\"Convert this dataframe to an interactive table.\"\n",
              "              style=\"display:none;\">\n",
              "        \n",
              "  <svg xmlns=\"http://www.w3.org/2000/svg\" height=\"24px\"viewBox=\"0 0 24 24\"\n",
              "       width=\"24px\">\n",
              "    <path d=\"M0 0h24v24H0V0z\" fill=\"none\"/>\n",
              "    <path d=\"M18.56 5.44l.94 2.06.94-2.06 2.06-.94-2.06-.94-.94-2.06-.94 2.06-2.06.94zm-11 1L8.5 8.5l.94-2.06 2.06-.94-2.06-.94L8.5 2.5l-.94 2.06-2.06.94zm10 10l.94 2.06.94-2.06 2.06-.94-2.06-.94-.94-2.06-.94 2.06-2.06.94z\"/><path d=\"M17.41 7.96l-1.37-1.37c-.4-.4-.92-.59-1.43-.59-.52 0-1.04.2-1.43.59L10.3 9.45l-7.72 7.72c-.78.78-.78 2.05 0 2.83L4 21.41c.39.39.9.59 1.41.59.51 0 1.02-.2 1.41-.59l7.78-7.78 2.81-2.81c.8-.78.8-2.07 0-2.86zM5.41 20L4 18.59l7.72-7.72 1.47 1.35L5.41 20z\"/>\n",
              "  </svg>\n",
              "      </button>\n",
              "      \n",
              "  <style>\n",
              "    .colab-df-container {\n",
              "      display:flex;\n",
              "      flex-wrap:wrap;\n",
              "      gap: 12px;\n",
              "    }\n",
              "\n",
              "    .colab-df-convert {\n",
              "      background-color: #E8F0FE;\n",
              "      border: none;\n",
              "      border-radius: 50%;\n",
              "      cursor: pointer;\n",
              "      display: none;\n",
              "      fill: #1967D2;\n",
              "      height: 32px;\n",
              "      padding: 0 0 0 0;\n",
              "      width: 32px;\n",
              "    }\n",
              "\n",
              "    .colab-df-convert:hover {\n",
              "      background-color: #E2EBFA;\n",
              "      box-shadow: 0px 1px 2px rgba(60, 64, 67, 0.3), 0px 1px 3px 1px rgba(60, 64, 67, 0.15);\n",
              "      fill: #174EA6;\n",
              "    }\n",
              "\n",
              "    [theme=dark] .colab-df-convert {\n",
              "      background-color: #3B4455;\n",
              "      fill: #D2E3FC;\n",
              "    }\n",
              "\n",
              "    [theme=dark] .colab-df-convert:hover {\n",
              "      background-color: #434B5C;\n",
              "      box-shadow: 0px 1px 3px 1px rgba(0, 0, 0, 0.15);\n",
              "      filter: drop-shadow(0px 1px 2px rgba(0, 0, 0, 0.3));\n",
              "      fill: #FFFFFF;\n",
              "    }\n",
              "  </style>\n",
              "\n",
              "      <script>\n",
              "        const buttonEl =\n",
              "          document.querySelector('#df-a9623113-718a-425e-9e23-756c07447baf button.colab-df-convert');\n",
              "        buttonEl.style.display =\n",
              "          google.colab.kernel.accessAllowed ? 'block' : 'none';\n",
              "\n",
              "        async function convertToInteractive(key) {\n",
              "          const element = document.querySelector('#df-a9623113-718a-425e-9e23-756c07447baf');\n",
              "          const dataTable =\n",
              "            await google.colab.kernel.invokeFunction('convertToInteractive',\n",
              "                                                     [key], {});\n",
              "          if (!dataTable) return;\n",
              "\n",
              "          const docLinkHtml = 'Like what you see? Visit the ' +\n",
              "            '<a target=\"_blank\" href=https://colab.research.google.com/notebooks/data_table.ipynb>data table notebook</a>'\n",
              "            + ' to learn more about interactive tables.';\n",
              "          element.innerHTML = '';\n",
              "          dataTable['output_type'] = 'display_data';\n",
              "          await google.colab.output.renderOutput(dataTable, element);\n",
              "          const docLink = document.createElement('div');\n",
              "          docLink.innerHTML = docLinkHtml;\n",
              "          element.appendChild(docLink);\n",
              "        }\n",
              "      </script>\n",
              "    </div>\n",
              "  </div>\n",
              "  "
            ]
          },
          "metadata": {},
          "execution_count": 10
        }
      ],
      "source": [
        "df.describe()"
      ]
    },
    {
      "cell_type": "markdown",
      "metadata": {
        "id": "keWdRpeho7Bj"
      },
      "source": [
        "Mari kita coba memahami kolom. Tabel di atas menunjukkan statistik deskriptif untuk kolom numerik.\n",
        "\n",
        "- Terdapat kode pos dengan nilai 0\n",
        "- Bisakah nomor blok/lot naik hingga 9009?\n",
        "- Sebagian besar properti memiliki 2 unit dan maksimum 2261 unit?\n",
        "- outlier perlu diselidiki lebih lanjut pada kolom\".\n",
        "- Kolom tahun memiliki tahun dengan 0"
      ]
    },
    {
      "cell_type": "markdown",
      "source": [
        "### PREPROCESSING DATA"
      ],
      "metadata": {
        "id": "ZO6f-1_4uGBW"
      }
    },
    {
      "cell_type": "markdown",
      "source": [
        "####Grup data frame baru **SALE PRICE** untuk analisis baru"
      ],
      "metadata": {
        "id": "SPGyqwwrwHhR"
      }
    },
    {
      "cell_type": "code",
      "source": [
        "#data['SALE PRICE'].unique()\n",
        "df['SALE PRICE']=df['SALE PRICE'].replace([' -  '], '0')\n",
        "df=df.astype({'BOROUGH':str})\n",
        "df=df.astype({'SALE PRICE':int})\n",
        "df.info()"
      ],
      "metadata": {
        "colab": {
          "base_uri": "https://localhost:8080/"
        },
        "id": "NCDPq55gyrp0",
        "outputId": "e4ec5947-5e51-4457-d9f8-81808099940c"
      },
      "execution_count": 11,
      "outputs": [
        {
          "output_type": "stream",
          "name": "stdout",
          "text": [
            "<class 'pandas.core.frame.DataFrame'>\n",
            "RangeIndex: 84548 entries, 0 to 84547\n",
            "Data columns (total 20 columns):\n",
            " #   Column                          Non-Null Count  Dtype \n",
            "---  ------                          --------------  ----- \n",
            " 0   BOROUGH                         84548 non-null  object\n",
            " 1   NEIGHBORHOOD                    84548 non-null  object\n",
            " 2   BUILDING CLASS CATEGORY         84548 non-null  object\n",
            " 3   TAX CLASS AT PRESENT            84548 non-null  object\n",
            " 4   BLOCK                           84548 non-null  int64 \n",
            " 5   LOT                             84548 non-null  int64 \n",
            " 6   BUILDING CLASS AT PRESENT       84548 non-null  object\n",
            " 7   ADDRESS                         84548 non-null  object\n",
            " 8   APARTMENT NUMBER                84548 non-null  object\n",
            " 9   ZIP CODE                        84548 non-null  int64 \n",
            " 10  RESIDENTIAL UNITS               84548 non-null  int64 \n",
            " 11  COMMERCIAL UNITS                84548 non-null  int64 \n",
            " 12  TOTAL UNITS                     84548 non-null  int64 \n",
            " 13  LAND SQUARE FEET                84548 non-null  object\n",
            " 14  GROSS SQUARE FEET               84548 non-null  object\n",
            " 15  YEAR BUILT                      84548 non-null  int64 \n",
            " 16  TAX CLASS AT TIME OF SALE       84548 non-null  int64 \n",
            " 17  BUILDING CLASS AT TIME OF SALE  84548 non-null  object\n",
            " 18  SALE PRICE                      84548 non-null  int64 \n",
            " 19  SALE DATE                       84548 non-null  object\n",
            "dtypes: int64(9), object(11)\n",
            "memory usage: 12.9+ MB\n"
          ]
        }
      ]
    },
    {
      "cell_type": "code",
      "source": [
        "data=df.groupby(['BOROUGH','NEIGHBORHOOD']).sum()[['TOTAL UNITS','SALE PRICE']].reset_index()\n",
        "data"
      ],
      "metadata": {
        "colab": {
          "base_uri": "https://localhost:8080/",
          "height": 424
        },
        "id": "bAFlFRoDuuP6",
        "outputId": "3b00884c-96a5-4ff0-a4d5-af8dc010d0d9"
      },
      "execution_count": 12,
      "outputs": [
        {
          "output_type": "execute_result",
          "data": {
            "text/plain": [
              "    BOROUGH       NEIGHBORHOOD  TOTAL UNITS  SALE PRICE\n",
              "0         1      ALPHABET CITY          567   384835657\n",
              "1         1            CHELSEA         1641  2475399537\n",
              "2         1          CHINATOWN          297   183820834\n",
              "3         1       CIVIC CENTER          448  2024972950\n",
              "4         1            CLINTON          497   555438713\n",
              "..      ...                ...          ...         ...\n",
              "251       5             TRAVIS          105    62798815\n",
              "252       5  WEST NEW BRIGHTON          419   101233372\n",
              "253       5        WESTERLEIGH          351   101147566\n",
              "254       5        WILLOWBROOK          307    81327023\n",
              "255       5            WOODROW          184    62733524\n",
              "\n",
              "[256 rows x 4 columns]"
            ],
            "text/html": [
              "\n",
              "  <div id=\"df-4e246492-9261-459a-b07e-dabc46564d9c\">\n",
              "    <div class=\"colab-df-container\">\n",
              "      <div>\n",
              "<style scoped>\n",
              "    .dataframe tbody tr th:only-of-type {\n",
              "        vertical-align: middle;\n",
              "    }\n",
              "\n",
              "    .dataframe tbody tr th {\n",
              "        vertical-align: top;\n",
              "    }\n",
              "\n",
              "    .dataframe thead th {\n",
              "        text-align: right;\n",
              "    }\n",
              "</style>\n",
              "<table border=\"1\" class=\"dataframe\">\n",
              "  <thead>\n",
              "    <tr style=\"text-align: right;\">\n",
              "      <th></th>\n",
              "      <th>BOROUGH</th>\n",
              "      <th>NEIGHBORHOOD</th>\n",
              "      <th>TOTAL UNITS</th>\n",
              "      <th>SALE PRICE</th>\n",
              "    </tr>\n",
              "  </thead>\n",
              "  <tbody>\n",
              "    <tr>\n",
              "      <th>0</th>\n",
              "      <td>1</td>\n",
              "      <td>ALPHABET CITY</td>\n",
              "      <td>567</td>\n",
              "      <td>384835657</td>\n",
              "    </tr>\n",
              "    <tr>\n",
              "      <th>1</th>\n",
              "      <td>1</td>\n",
              "      <td>CHELSEA</td>\n",
              "      <td>1641</td>\n",
              "      <td>2475399537</td>\n",
              "    </tr>\n",
              "    <tr>\n",
              "      <th>2</th>\n",
              "      <td>1</td>\n",
              "      <td>CHINATOWN</td>\n",
              "      <td>297</td>\n",
              "      <td>183820834</td>\n",
              "    </tr>\n",
              "    <tr>\n",
              "      <th>3</th>\n",
              "      <td>1</td>\n",
              "      <td>CIVIC CENTER</td>\n",
              "      <td>448</td>\n",
              "      <td>2024972950</td>\n",
              "    </tr>\n",
              "    <tr>\n",
              "      <th>4</th>\n",
              "      <td>1</td>\n",
              "      <td>CLINTON</td>\n",
              "      <td>497</td>\n",
              "      <td>555438713</td>\n",
              "    </tr>\n",
              "    <tr>\n",
              "      <th>...</th>\n",
              "      <td>...</td>\n",
              "      <td>...</td>\n",
              "      <td>...</td>\n",
              "      <td>...</td>\n",
              "    </tr>\n",
              "    <tr>\n",
              "      <th>251</th>\n",
              "      <td>5</td>\n",
              "      <td>TRAVIS</td>\n",
              "      <td>105</td>\n",
              "      <td>62798815</td>\n",
              "    </tr>\n",
              "    <tr>\n",
              "      <th>252</th>\n",
              "      <td>5</td>\n",
              "      <td>WEST NEW BRIGHTON</td>\n",
              "      <td>419</td>\n",
              "      <td>101233372</td>\n",
              "    </tr>\n",
              "    <tr>\n",
              "      <th>253</th>\n",
              "      <td>5</td>\n",
              "      <td>WESTERLEIGH</td>\n",
              "      <td>351</td>\n",
              "      <td>101147566</td>\n",
              "    </tr>\n",
              "    <tr>\n",
              "      <th>254</th>\n",
              "      <td>5</td>\n",
              "      <td>WILLOWBROOK</td>\n",
              "      <td>307</td>\n",
              "      <td>81327023</td>\n",
              "    </tr>\n",
              "    <tr>\n",
              "      <th>255</th>\n",
              "      <td>5</td>\n",
              "      <td>WOODROW</td>\n",
              "      <td>184</td>\n",
              "      <td>62733524</td>\n",
              "    </tr>\n",
              "  </tbody>\n",
              "</table>\n",
              "<p>256 rows × 4 columns</p>\n",
              "</div>\n",
              "      <button class=\"colab-df-convert\" onclick=\"convertToInteractive('df-4e246492-9261-459a-b07e-dabc46564d9c')\"\n",
              "              title=\"Convert this dataframe to an interactive table.\"\n",
              "              style=\"display:none;\">\n",
              "        \n",
              "  <svg xmlns=\"http://www.w3.org/2000/svg\" height=\"24px\"viewBox=\"0 0 24 24\"\n",
              "       width=\"24px\">\n",
              "    <path d=\"M0 0h24v24H0V0z\" fill=\"none\"/>\n",
              "    <path d=\"M18.56 5.44l.94 2.06.94-2.06 2.06-.94-2.06-.94-.94-2.06-.94 2.06-2.06.94zm-11 1L8.5 8.5l.94-2.06 2.06-.94-2.06-.94L8.5 2.5l-.94 2.06-2.06.94zm10 10l.94 2.06.94-2.06 2.06-.94-2.06-.94-.94-2.06-.94 2.06-2.06.94z\"/><path d=\"M17.41 7.96l-1.37-1.37c-.4-.4-.92-.59-1.43-.59-.52 0-1.04.2-1.43.59L10.3 9.45l-7.72 7.72c-.78.78-.78 2.05 0 2.83L4 21.41c.39.39.9.59 1.41.59.51 0 1.02-.2 1.41-.59l7.78-7.78 2.81-2.81c.8-.78.8-2.07 0-2.86zM5.41 20L4 18.59l7.72-7.72 1.47 1.35L5.41 20z\"/>\n",
              "  </svg>\n",
              "      </button>\n",
              "      \n",
              "  <style>\n",
              "    .colab-df-container {\n",
              "      display:flex;\n",
              "      flex-wrap:wrap;\n",
              "      gap: 12px;\n",
              "    }\n",
              "\n",
              "    .colab-df-convert {\n",
              "      background-color: #E8F0FE;\n",
              "      border: none;\n",
              "      border-radius: 50%;\n",
              "      cursor: pointer;\n",
              "      display: none;\n",
              "      fill: #1967D2;\n",
              "      height: 32px;\n",
              "      padding: 0 0 0 0;\n",
              "      width: 32px;\n",
              "    }\n",
              "\n",
              "    .colab-df-convert:hover {\n",
              "      background-color: #E2EBFA;\n",
              "      box-shadow: 0px 1px 2px rgba(60, 64, 67, 0.3), 0px 1px 3px 1px rgba(60, 64, 67, 0.15);\n",
              "      fill: #174EA6;\n",
              "    }\n",
              "\n",
              "    [theme=dark] .colab-df-convert {\n",
              "      background-color: #3B4455;\n",
              "      fill: #D2E3FC;\n",
              "    }\n",
              "\n",
              "    [theme=dark] .colab-df-convert:hover {\n",
              "      background-color: #434B5C;\n",
              "      box-shadow: 0px 1px 3px 1px rgba(0, 0, 0, 0.15);\n",
              "      filter: drop-shadow(0px 1px 2px rgba(0, 0, 0, 0.3));\n",
              "      fill: #FFFFFF;\n",
              "    }\n",
              "  </style>\n",
              "\n",
              "      <script>\n",
              "        const buttonEl =\n",
              "          document.querySelector('#df-4e246492-9261-459a-b07e-dabc46564d9c button.colab-df-convert');\n",
              "        buttonEl.style.display =\n",
              "          google.colab.kernel.accessAllowed ? 'block' : 'none';\n",
              "\n",
              "        async function convertToInteractive(key) {\n",
              "          const element = document.querySelector('#df-4e246492-9261-459a-b07e-dabc46564d9c');\n",
              "          const dataTable =\n",
              "            await google.colab.kernel.invokeFunction('convertToInteractive',\n",
              "                                                     [key], {});\n",
              "          if (!dataTable) return;\n",
              "\n",
              "          const docLinkHtml = 'Like what you see? Visit the ' +\n",
              "            '<a target=\"_blank\" href=https://colab.research.google.com/notebooks/data_table.ipynb>data table notebook</a>'\n",
              "            + ' to learn more about interactive tables.';\n",
              "          element.innerHTML = '';\n",
              "          dataTable['output_type'] = 'display_data';\n",
              "          await google.colab.output.renderOutput(dataTable, element);\n",
              "          const docLink = document.createElement('div');\n",
              "          docLink.innerHTML = docLinkHtml;\n",
              "          element.appendChild(docLink);\n",
              "        }\n",
              "      </script>\n",
              "    </div>\n",
              "  </div>\n",
              "  "
            ]
          },
          "metadata": {},
          "execution_count": 12
        }
      ]
    },
    {
      "cell_type": "markdown",
      "source": [
        "####Membuat 1 variabel baru yaitu harga per unit"
      ],
      "metadata": {
        "id": "BiBOUpaPwTtP"
      }
    },
    {
      "cell_type": "code",
      "source": [
        "Price_per_unit=pd.DataFrame(data['SALE PRICE']/data['TOTAL UNITS'], columns=['PRICE PER UNIT'])\n",
        "Price_per_unit"
      ],
      "metadata": {
        "colab": {
          "base_uri": "https://localhost:8080/",
          "height": 424
        },
        "id": "wPyQDMgSwXN8",
        "outputId": "4d1d7334-ecc4-4190-f10e-566bf88e3794"
      },
      "execution_count": 13,
      "outputs": [
        {
          "output_type": "execute_result",
          "data": {
            "text/plain": [
              "     PRICE PER UNIT\n",
              "0      6.787225e+05\n",
              "1      1.508470e+06\n",
              "2      6.189254e+05\n",
              "3      4.520029e+06\n",
              "4      1.117583e+06\n",
              "..              ...\n",
              "251    5.980840e+05\n",
              "252    2.416071e+05\n",
              "253    2.881697e+05\n",
              "254    2.649089e+05\n",
              "255    3.409431e+05\n",
              "\n",
              "[256 rows x 1 columns]"
            ],
            "text/html": [
              "\n",
              "  <div id=\"df-97b5523e-290e-4a2b-aed0-93657f13a2c2\">\n",
              "    <div class=\"colab-df-container\">\n",
              "      <div>\n",
              "<style scoped>\n",
              "    .dataframe tbody tr th:only-of-type {\n",
              "        vertical-align: middle;\n",
              "    }\n",
              "\n",
              "    .dataframe tbody tr th {\n",
              "        vertical-align: top;\n",
              "    }\n",
              "\n",
              "    .dataframe thead th {\n",
              "        text-align: right;\n",
              "    }\n",
              "</style>\n",
              "<table border=\"1\" class=\"dataframe\">\n",
              "  <thead>\n",
              "    <tr style=\"text-align: right;\">\n",
              "      <th></th>\n",
              "      <th>PRICE PER UNIT</th>\n",
              "    </tr>\n",
              "  </thead>\n",
              "  <tbody>\n",
              "    <tr>\n",
              "      <th>0</th>\n",
              "      <td>6.787225e+05</td>\n",
              "    </tr>\n",
              "    <tr>\n",
              "      <th>1</th>\n",
              "      <td>1.508470e+06</td>\n",
              "    </tr>\n",
              "    <tr>\n",
              "      <th>2</th>\n",
              "      <td>6.189254e+05</td>\n",
              "    </tr>\n",
              "    <tr>\n",
              "      <th>3</th>\n",
              "      <td>4.520029e+06</td>\n",
              "    </tr>\n",
              "    <tr>\n",
              "      <th>4</th>\n",
              "      <td>1.117583e+06</td>\n",
              "    </tr>\n",
              "    <tr>\n",
              "      <th>...</th>\n",
              "      <td>...</td>\n",
              "    </tr>\n",
              "    <tr>\n",
              "      <th>251</th>\n",
              "      <td>5.980840e+05</td>\n",
              "    </tr>\n",
              "    <tr>\n",
              "      <th>252</th>\n",
              "      <td>2.416071e+05</td>\n",
              "    </tr>\n",
              "    <tr>\n",
              "      <th>253</th>\n",
              "      <td>2.881697e+05</td>\n",
              "    </tr>\n",
              "    <tr>\n",
              "      <th>254</th>\n",
              "      <td>2.649089e+05</td>\n",
              "    </tr>\n",
              "    <tr>\n",
              "      <th>255</th>\n",
              "      <td>3.409431e+05</td>\n",
              "    </tr>\n",
              "  </tbody>\n",
              "</table>\n",
              "<p>256 rows × 1 columns</p>\n",
              "</div>\n",
              "      <button class=\"colab-df-convert\" onclick=\"convertToInteractive('df-97b5523e-290e-4a2b-aed0-93657f13a2c2')\"\n",
              "              title=\"Convert this dataframe to an interactive table.\"\n",
              "              style=\"display:none;\">\n",
              "        \n",
              "  <svg xmlns=\"http://www.w3.org/2000/svg\" height=\"24px\"viewBox=\"0 0 24 24\"\n",
              "       width=\"24px\">\n",
              "    <path d=\"M0 0h24v24H0V0z\" fill=\"none\"/>\n",
              "    <path d=\"M18.56 5.44l.94 2.06.94-2.06 2.06-.94-2.06-.94-.94-2.06-.94 2.06-2.06.94zm-11 1L8.5 8.5l.94-2.06 2.06-.94-2.06-.94L8.5 2.5l-.94 2.06-2.06.94zm10 10l.94 2.06.94-2.06 2.06-.94-2.06-.94-.94-2.06-.94 2.06-2.06.94z\"/><path d=\"M17.41 7.96l-1.37-1.37c-.4-.4-.92-.59-1.43-.59-.52 0-1.04.2-1.43.59L10.3 9.45l-7.72 7.72c-.78.78-.78 2.05 0 2.83L4 21.41c.39.39.9.59 1.41.59.51 0 1.02-.2 1.41-.59l7.78-7.78 2.81-2.81c.8-.78.8-2.07 0-2.86zM5.41 20L4 18.59l7.72-7.72 1.47 1.35L5.41 20z\"/>\n",
              "  </svg>\n",
              "      </button>\n",
              "      \n",
              "  <style>\n",
              "    .colab-df-container {\n",
              "      display:flex;\n",
              "      flex-wrap:wrap;\n",
              "      gap: 12px;\n",
              "    }\n",
              "\n",
              "    .colab-df-convert {\n",
              "      background-color: #E8F0FE;\n",
              "      border: none;\n",
              "      border-radius: 50%;\n",
              "      cursor: pointer;\n",
              "      display: none;\n",
              "      fill: #1967D2;\n",
              "      height: 32px;\n",
              "      padding: 0 0 0 0;\n",
              "      width: 32px;\n",
              "    }\n",
              "\n",
              "    .colab-df-convert:hover {\n",
              "      background-color: #E2EBFA;\n",
              "      box-shadow: 0px 1px 2px rgba(60, 64, 67, 0.3), 0px 1px 3px 1px rgba(60, 64, 67, 0.15);\n",
              "      fill: #174EA6;\n",
              "    }\n",
              "\n",
              "    [theme=dark] .colab-df-convert {\n",
              "      background-color: #3B4455;\n",
              "      fill: #D2E3FC;\n",
              "    }\n",
              "\n",
              "    [theme=dark] .colab-df-convert:hover {\n",
              "      background-color: #434B5C;\n",
              "      box-shadow: 0px 1px 3px 1px rgba(0, 0, 0, 0.15);\n",
              "      filter: drop-shadow(0px 1px 2px rgba(0, 0, 0, 0.3));\n",
              "      fill: #FFFFFF;\n",
              "    }\n",
              "  </style>\n",
              "\n",
              "      <script>\n",
              "        const buttonEl =\n",
              "          document.querySelector('#df-97b5523e-290e-4a2b-aed0-93657f13a2c2 button.colab-df-convert');\n",
              "        buttonEl.style.display =\n",
              "          google.colab.kernel.accessAllowed ? 'block' : 'none';\n",
              "\n",
              "        async function convertToInteractive(key) {\n",
              "          const element = document.querySelector('#df-97b5523e-290e-4a2b-aed0-93657f13a2c2');\n",
              "          const dataTable =\n",
              "            await google.colab.kernel.invokeFunction('convertToInteractive',\n",
              "                                                     [key], {});\n",
              "          if (!dataTable) return;\n",
              "\n",
              "          const docLinkHtml = 'Like what you see? Visit the ' +\n",
              "            '<a target=\"_blank\" href=https://colab.research.google.com/notebooks/data_table.ipynb>data table notebook</a>'\n",
              "            + ' to learn more about interactive tables.';\n",
              "          element.innerHTML = '';\n",
              "          dataTable['output_type'] = 'display_data';\n",
              "          await google.colab.output.renderOutput(dataTable, element);\n",
              "          const docLink = document.createElement('div');\n",
              "          docLink.innerHTML = docLinkHtml;\n",
              "          element.appendChild(docLink);\n",
              "        }\n",
              "      </script>\n",
              "    </div>\n",
              "  </div>\n",
              "  "
            ]
          },
          "metadata": {},
          "execution_count": 13
        }
      ]
    },
    {
      "cell_type": "markdown",
      "source": [
        "####Memasukkan variable Price Per Unit ke dalam Data frame sebelumnya"
      ],
      "metadata": {
        "id": "u87PcPYf2wZL"
      }
    },
    {
      "cell_type": "code",
      "source": [
        "data1=pd.concat([data, Price_per_unit], axis=1)\n",
        "data1=data1.replace([np.inf, -np.inf], np.nan).dropna(axis=0).reset_index()\n",
        "data1=data1.astype({'PRICE PER UNIT':int})\n",
        "print(data1.info())\n",
        "data1"
      ],
      "metadata": {
        "colab": {
          "base_uri": "https://localhost:8080/",
          "height": 667
        },
        "id": "8VzOIFvn2qx1",
        "outputId": "0b8d1d4e-e7f1-4e15-91c3-dc7f378d61e3"
      },
      "execution_count": 15,
      "outputs": [
        {
          "output_type": "stream",
          "name": "stdout",
          "text": [
            "<class 'pandas.core.frame.DataFrame'>\n",
            "RangeIndex: 254 entries, 0 to 253\n",
            "Data columns (total 6 columns):\n",
            " #   Column          Non-Null Count  Dtype \n",
            "---  ------          --------------  ----- \n",
            " 0   index           254 non-null    int64 \n",
            " 1   BOROUGH         254 non-null    object\n",
            " 2   NEIGHBORHOOD    254 non-null    object\n",
            " 3   TOTAL UNITS     254 non-null    int64 \n",
            " 4   SALE PRICE      254 non-null    int64 \n",
            " 5   PRICE PER UNIT  254 non-null    int64 \n",
            "dtypes: int64(4), object(2)\n",
            "memory usage: 12.0+ KB\n",
            "None\n"
          ]
        },
        {
          "output_type": "execute_result",
          "data": {
            "text/plain": [
              "     index BOROUGH       NEIGHBORHOOD  TOTAL UNITS  SALE PRICE  PRICE PER UNIT\n",
              "0        0       1      ALPHABET CITY          567   384835657          678722\n",
              "1        1       1            CHELSEA         1641  2475399537         1508470\n",
              "2        2       1          CHINATOWN          297   183820834          618925\n",
              "3        3       1       CIVIC CENTER          448  2024972950         4520028\n",
              "4        4       1            CLINTON          497   555438713         1117582\n",
              "..     ...     ...                ...          ...         ...             ...\n",
              "249    251       5             TRAVIS          105    62798815          598083\n",
              "250    252       5  WEST NEW BRIGHTON          419   101233372          241607\n",
              "251    253       5        WESTERLEIGH          351   101147566          288169\n",
              "252    254       5        WILLOWBROOK          307    81327023          264908\n",
              "253    255       5            WOODROW          184    62733524          340943\n",
              "\n",
              "[254 rows x 6 columns]"
            ],
            "text/html": [
              "\n",
              "  <div id=\"df-fd1545e7-79b4-4d95-b5c5-42c194404043\">\n",
              "    <div class=\"colab-df-container\">\n",
              "      <div>\n",
              "<style scoped>\n",
              "    .dataframe tbody tr th:only-of-type {\n",
              "        vertical-align: middle;\n",
              "    }\n",
              "\n",
              "    .dataframe tbody tr th {\n",
              "        vertical-align: top;\n",
              "    }\n",
              "\n",
              "    .dataframe thead th {\n",
              "        text-align: right;\n",
              "    }\n",
              "</style>\n",
              "<table border=\"1\" class=\"dataframe\">\n",
              "  <thead>\n",
              "    <tr style=\"text-align: right;\">\n",
              "      <th></th>\n",
              "      <th>index</th>\n",
              "      <th>BOROUGH</th>\n",
              "      <th>NEIGHBORHOOD</th>\n",
              "      <th>TOTAL UNITS</th>\n",
              "      <th>SALE PRICE</th>\n",
              "      <th>PRICE PER UNIT</th>\n",
              "    </tr>\n",
              "  </thead>\n",
              "  <tbody>\n",
              "    <tr>\n",
              "      <th>0</th>\n",
              "      <td>0</td>\n",
              "      <td>1</td>\n",
              "      <td>ALPHABET CITY</td>\n",
              "      <td>567</td>\n",
              "      <td>384835657</td>\n",
              "      <td>678722</td>\n",
              "    </tr>\n",
              "    <tr>\n",
              "      <th>1</th>\n",
              "      <td>1</td>\n",
              "      <td>1</td>\n",
              "      <td>CHELSEA</td>\n",
              "      <td>1641</td>\n",
              "      <td>2475399537</td>\n",
              "      <td>1508470</td>\n",
              "    </tr>\n",
              "    <tr>\n",
              "      <th>2</th>\n",
              "      <td>2</td>\n",
              "      <td>1</td>\n",
              "      <td>CHINATOWN</td>\n",
              "      <td>297</td>\n",
              "      <td>183820834</td>\n",
              "      <td>618925</td>\n",
              "    </tr>\n",
              "    <tr>\n",
              "      <th>3</th>\n",
              "      <td>3</td>\n",
              "      <td>1</td>\n",
              "      <td>CIVIC CENTER</td>\n",
              "      <td>448</td>\n",
              "      <td>2024972950</td>\n",
              "      <td>4520028</td>\n",
              "    </tr>\n",
              "    <tr>\n",
              "      <th>4</th>\n",
              "      <td>4</td>\n",
              "      <td>1</td>\n",
              "      <td>CLINTON</td>\n",
              "      <td>497</td>\n",
              "      <td>555438713</td>\n",
              "      <td>1117582</td>\n",
              "    </tr>\n",
              "    <tr>\n",
              "      <th>...</th>\n",
              "      <td>...</td>\n",
              "      <td>...</td>\n",
              "      <td>...</td>\n",
              "      <td>...</td>\n",
              "      <td>...</td>\n",
              "      <td>...</td>\n",
              "    </tr>\n",
              "    <tr>\n",
              "      <th>249</th>\n",
              "      <td>251</td>\n",
              "      <td>5</td>\n",
              "      <td>TRAVIS</td>\n",
              "      <td>105</td>\n",
              "      <td>62798815</td>\n",
              "      <td>598083</td>\n",
              "    </tr>\n",
              "    <tr>\n",
              "      <th>250</th>\n",
              "      <td>252</td>\n",
              "      <td>5</td>\n",
              "      <td>WEST NEW BRIGHTON</td>\n",
              "      <td>419</td>\n",
              "      <td>101233372</td>\n",
              "      <td>241607</td>\n",
              "    </tr>\n",
              "    <tr>\n",
              "      <th>251</th>\n",
              "      <td>253</td>\n",
              "      <td>5</td>\n",
              "      <td>WESTERLEIGH</td>\n",
              "      <td>351</td>\n",
              "      <td>101147566</td>\n",
              "      <td>288169</td>\n",
              "    </tr>\n",
              "    <tr>\n",
              "      <th>252</th>\n",
              "      <td>254</td>\n",
              "      <td>5</td>\n",
              "      <td>WILLOWBROOK</td>\n",
              "      <td>307</td>\n",
              "      <td>81327023</td>\n",
              "      <td>264908</td>\n",
              "    </tr>\n",
              "    <tr>\n",
              "      <th>253</th>\n",
              "      <td>255</td>\n",
              "      <td>5</td>\n",
              "      <td>WOODROW</td>\n",
              "      <td>184</td>\n",
              "      <td>62733524</td>\n",
              "      <td>340943</td>\n",
              "    </tr>\n",
              "  </tbody>\n",
              "</table>\n",
              "<p>254 rows × 6 columns</p>\n",
              "</div>\n",
              "      <button class=\"colab-df-convert\" onclick=\"convertToInteractive('df-fd1545e7-79b4-4d95-b5c5-42c194404043')\"\n",
              "              title=\"Convert this dataframe to an interactive table.\"\n",
              "              style=\"display:none;\">\n",
              "        \n",
              "  <svg xmlns=\"http://www.w3.org/2000/svg\" height=\"24px\"viewBox=\"0 0 24 24\"\n",
              "       width=\"24px\">\n",
              "    <path d=\"M0 0h24v24H0V0z\" fill=\"none\"/>\n",
              "    <path d=\"M18.56 5.44l.94 2.06.94-2.06 2.06-.94-2.06-.94-.94-2.06-.94 2.06-2.06.94zm-11 1L8.5 8.5l.94-2.06 2.06-.94-2.06-.94L8.5 2.5l-.94 2.06-2.06.94zm10 10l.94 2.06.94-2.06 2.06-.94-2.06-.94-.94-2.06-.94 2.06-2.06.94z\"/><path d=\"M17.41 7.96l-1.37-1.37c-.4-.4-.92-.59-1.43-.59-.52 0-1.04.2-1.43.59L10.3 9.45l-7.72 7.72c-.78.78-.78 2.05 0 2.83L4 21.41c.39.39.9.59 1.41.59.51 0 1.02-.2 1.41-.59l7.78-7.78 2.81-2.81c.8-.78.8-2.07 0-2.86zM5.41 20L4 18.59l7.72-7.72 1.47 1.35L5.41 20z\"/>\n",
              "  </svg>\n",
              "      </button>\n",
              "      \n",
              "  <style>\n",
              "    .colab-df-container {\n",
              "      display:flex;\n",
              "      flex-wrap:wrap;\n",
              "      gap: 12px;\n",
              "    }\n",
              "\n",
              "    .colab-df-convert {\n",
              "      background-color: #E8F0FE;\n",
              "      border: none;\n",
              "      border-radius: 50%;\n",
              "      cursor: pointer;\n",
              "      display: none;\n",
              "      fill: #1967D2;\n",
              "      height: 32px;\n",
              "      padding: 0 0 0 0;\n",
              "      width: 32px;\n",
              "    }\n",
              "\n",
              "    .colab-df-convert:hover {\n",
              "      background-color: #E2EBFA;\n",
              "      box-shadow: 0px 1px 2px rgba(60, 64, 67, 0.3), 0px 1px 3px 1px rgba(60, 64, 67, 0.15);\n",
              "      fill: #174EA6;\n",
              "    }\n",
              "\n",
              "    [theme=dark] .colab-df-convert {\n",
              "      background-color: #3B4455;\n",
              "      fill: #D2E3FC;\n",
              "    }\n",
              "\n",
              "    [theme=dark] .colab-df-convert:hover {\n",
              "      background-color: #434B5C;\n",
              "      box-shadow: 0px 1px 3px 1px rgba(0, 0, 0, 0.15);\n",
              "      filter: drop-shadow(0px 1px 2px rgba(0, 0, 0, 0.3));\n",
              "      fill: #FFFFFF;\n",
              "    }\n",
              "  </style>\n",
              "\n",
              "      <script>\n",
              "        const buttonEl =\n",
              "          document.querySelector('#df-fd1545e7-79b4-4d95-b5c5-42c194404043 button.colab-df-convert');\n",
              "        buttonEl.style.display =\n",
              "          google.colab.kernel.accessAllowed ? 'block' : 'none';\n",
              "\n",
              "        async function convertToInteractive(key) {\n",
              "          const element = document.querySelector('#df-fd1545e7-79b4-4d95-b5c5-42c194404043');\n",
              "          const dataTable =\n",
              "            await google.colab.kernel.invokeFunction('convertToInteractive',\n",
              "                                                     [key], {});\n",
              "          if (!dataTable) return;\n",
              "\n",
              "          const docLinkHtml = 'Like what you see? Visit the ' +\n",
              "            '<a target=\"_blank\" href=https://colab.research.google.com/notebooks/data_table.ipynb>data table notebook</a>'\n",
              "            + ' to learn more about interactive tables.';\n",
              "          element.innerHTML = '';\n",
              "          dataTable['output_type'] = 'display_data';\n",
              "          await google.colab.output.renderOutput(dataTable, element);\n",
              "          const docLink = document.createElement('div');\n",
              "          docLink.innerHTML = docLinkHtml;\n",
              "          element.appendChild(docLink);\n",
              "        }\n",
              "      </script>\n",
              "    </div>\n",
              "  </div>\n",
              "  "
            ]
          },
          "metadata": {},
          "execution_count": 15
        }
      ]
    },
    {
      "cell_type": "code",
      "execution_count": 14,
      "metadata": {
        "colab": {
          "base_uri": "https://localhost:8080/"
        },
        "id": "ix5nw9Bpo7Bj",
        "outputId": "cbb69ea9-d7f4-4ed9-b519-a7c8ed47e8fe"
      },
      "outputs": [
        {
          "output_type": "execute_result",
          "data": {
            "text/plain": [
              "4    26736\n",
              "3    24047\n",
              "1    18306\n",
              "5     8410\n",
              "2     7049\n",
              "Name: BOROUGH, dtype: int64"
            ]
          },
          "metadata": {},
          "execution_count": 14
        }
      ],
      "source": [
        "df[\"BOROUGH\"].value_counts()"
      ]
    },
    {
      "cell_type": "markdown",
      "metadata": {
        "id": "AzhjKz9ir6go"
      },
      "source": [
        "### MEASUREMENT OF CENTRAL TENFDENCY"
      ]
    },
    {
      "cell_type": "markdown",
      "metadata": {
        "id": "9usWVO1_o7Bk"
      },
      "source": [
        "####Dari sini, kita dapat menghitung rata-rata harga bangunan untuk setiap Borough. Gunakan fungsi `.mean()` untuk menghitung mean.\n",
        "\n",
        "Fungsi di bawah ini adalah fungsi bertingkat. (1 Poin)"
      ]
    },
    {
      "cell_type": "code",
      "execution_count": 16,
      "metadata": {
        "colab": {
          "base_uri": "https://localhost:8080/",
          "height": 206
        },
        "id": "bSde7yb1o7Bk",
        "outputId": "866ae3bd-76a9-4857-aa0b-128761a10b94"
      },
      "outputs": [
        {
          "output_type": "execute_result",
          "data": {
            "text/plain": [
              "  BOROUGH  PRICE PER UNIT (MEAN)\n",
              "0       1             1508178.31\n",
              "1       2              508794.26\n",
              "2       3              535404.10\n",
              "3       4              313830.22\n",
              "4       5             1375295.67"
            ],
            "text/html": [
              "\n",
              "  <div id=\"df-1af03647-d936-423b-b338-9186466ea84c\">\n",
              "    <div class=\"colab-df-container\">\n",
              "      <div>\n",
              "<style scoped>\n",
              "    .dataframe tbody tr th:only-of-type {\n",
              "        vertical-align: middle;\n",
              "    }\n",
              "\n",
              "    .dataframe tbody tr th {\n",
              "        vertical-align: top;\n",
              "    }\n",
              "\n",
              "    .dataframe thead th {\n",
              "        text-align: right;\n",
              "    }\n",
              "</style>\n",
              "<table border=\"1\" class=\"dataframe\">\n",
              "  <thead>\n",
              "    <tr style=\"text-align: right;\">\n",
              "      <th></th>\n",
              "      <th>BOROUGH</th>\n",
              "      <th>PRICE PER UNIT (MEAN)</th>\n",
              "    </tr>\n",
              "  </thead>\n",
              "  <tbody>\n",
              "    <tr>\n",
              "      <th>0</th>\n",
              "      <td>1</td>\n",
              "      <td>1508178.31</td>\n",
              "    </tr>\n",
              "    <tr>\n",
              "      <th>1</th>\n",
              "      <td>2</td>\n",
              "      <td>508794.26</td>\n",
              "    </tr>\n",
              "    <tr>\n",
              "      <th>2</th>\n",
              "      <td>3</td>\n",
              "      <td>535404.10</td>\n",
              "    </tr>\n",
              "    <tr>\n",
              "      <th>3</th>\n",
              "      <td>4</td>\n",
              "      <td>313830.22</td>\n",
              "    </tr>\n",
              "    <tr>\n",
              "      <th>4</th>\n",
              "      <td>5</td>\n",
              "      <td>1375295.67</td>\n",
              "    </tr>\n",
              "  </tbody>\n",
              "</table>\n",
              "</div>\n",
              "      <button class=\"colab-df-convert\" onclick=\"convertToInteractive('df-1af03647-d936-423b-b338-9186466ea84c')\"\n",
              "              title=\"Convert this dataframe to an interactive table.\"\n",
              "              style=\"display:none;\">\n",
              "        \n",
              "  <svg xmlns=\"http://www.w3.org/2000/svg\" height=\"24px\"viewBox=\"0 0 24 24\"\n",
              "       width=\"24px\">\n",
              "    <path d=\"M0 0h24v24H0V0z\" fill=\"none\"/>\n",
              "    <path d=\"M18.56 5.44l.94 2.06.94-2.06 2.06-.94-2.06-.94-.94-2.06-.94 2.06-2.06.94zm-11 1L8.5 8.5l.94-2.06 2.06-.94-2.06-.94L8.5 2.5l-.94 2.06-2.06.94zm10 10l.94 2.06.94-2.06 2.06-.94-2.06-.94-.94-2.06-.94 2.06-2.06.94z\"/><path d=\"M17.41 7.96l-1.37-1.37c-.4-.4-.92-.59-1.43-.59-.52 0-1.04.2-1.43.59L10.3 9.45l-7.72 7.72c-.78.78-.78 2.05 0 2.83L4 21.41c.39.39.9.59 1.41.59.51 0 1.02-.2 1.41-.59l7.78-7.78 2.81-2.81c.8-.78.8-2.07 0-2.86zM5.41 20L4 18.59l7.72-7.72 1.47 1.35L5.41 20z\"/>\n",
              "  </svg>\n",
              "      </button>\n",
              "      \n",
              "  <style>\n",
              "    .colab-df-container {\n",
              "      display:flex;\n",
              "      flex-wrap:wrap;\n",
              "      gap: 12px;\n",
              "    }\n",
              "\n",
              "    .colab-df-convert {\n",
              "      background-color: #E8F0FE;\n",
              "      border: none;\n",
              "      border-radius: 50%;\n",
              "      cursor: pointer;\n",
              "      display: none;\n",
              "      fill: #1967D2;\n",
              "      height: 32px;\n",
              "      padding: 0 0 0 0;\n",
              "      width: 32px;\n",
              "    }\n",
              "\n",
              "    .colab-df-convert:hover {\n",
              "      background-color: #E2EBFA;\n",
              "      box-shadow: 0px 1px 2px rgba(60, 64, 67, 0.3), 0px 1px 3px 1px rgba(60, 64, 67, 0.15);\n",
              "      fill: #174EA6;\n",
              "    }\n",
              "\n",
              "    [theme=dark] .colab-df-convert {\n",
              "      background-color: #3B4455;\n",
              "      fill: #D2E3FC;\n",
              "    }\n",
              "\n",
              "    [theme=dark] .colab-df-convert:hover {\n",
              "      background-color: #434B5C;\n",
              "      box-shadow: 0px 1px 3px 1px rgba(0, 0, 0, 0.15);\n",
              "      filter: drop-shadow(0px 1px 2px rgba(0, 0, 0, 0.3));\n",
              "      fill: #FFFFFF;\n",
              "    }\n",
              "  </style>\n",
              "\n",
              "      <script>\n",
              "        const buttonEl =\n",
              "          document.querySelector('#df-1af03647-d936-423b-b338-9186466ea84c button.colab-df-convert');\n",
              "        buttonEl.style.display =\n",
              "          google.colab.kernel.accessAllowed ? 'block' : 'none';\n",
              "\n",
              "        async function convertToInteractive(key) {\n",
              "          const element = document.querySelector('#df-1af03647-d936-423b-b338-9186466ea84c');\n",
              "          const dataTable =\n",
              "            await google.colab.kernel.invokeFunction('convertToInteractive',\n",
              "                                                     [key], {});\n",
              "          if (!dataTable) return;\n",
              "\n",
              "          const docLinkHtml = 'Like what you see? Visit the ' +\n",
              "            '<a target=\"_blank\" href=https://colab.research.google.com/notebooks/data_table.ipynb>data table notebook</a>'\n",
              "            + ' to learn more about interactive tables.';\n",
              "          element.innerHTML = '';\n",
              "          dataTable['output_type'] = 'display_data';\n",
              "          await google.colab.output.renderOutput(dataTable, element);\n",
              "          const docLink = document.createElement('div');\n",
              "          docLink.innerHTML = docLinkHtml;\n",
              "          element.appendChild(docLink);\n",
              "        }\n",
              "      </script>\n",
              "    </div>\n",
              "  </div>\n",
              "  "
            ]
          },
          "metadata": {},
          "execution_count": 16
        }
      ],
      "source": [
        "Mean=data1.groupby(['BOROUGH']).mean()['PRICE PER UNIT'].rename('PRICE PER UNIT (MEAN)').round(2).reset_index()\n",
        "Mean"
      ]
    },
    {
      "cell_type": "markdown",
      "source": [
        "Berdasarkan hasil diatas dapat di ketahui bahwa rata\" harga tiap unit adalah\n",
        "\n",
        "1.   Manhattan     : 1508178.31\n",
        "2.   Bronx         : 508794.26\n",
        "3.   Brooklyn      : 535404.10\n",
        "4.   Quens         : 313830.22\n",
        "5.   Staten Island : 1375295.67\n",
        "\n",
        "dengan kesimpulan **Manhattan** menjadi borough termahal dan **Queens** termurah"
      ],
      "metadata": {
        "id": "iMSSnLQ03Ge_"
      }
    },
    {
      "cell_type": "markdown",
      "metadata": {
        "id": "y88f9IUho7Bk"
      },
      "source": [
        "####Dari sini, kita dapat menghitung median harga bangunan untuk setiap Borough. Gunakan fungsi `.median()` untuk menghitung median.\n",
        "\n",
        "Fungsi di bawah ini adalah fungsi bertingkat. (1 Poin)"
      ]
    },
    {
      "cell_type": "code",
      "execution_count": 17,
      "metadata": {
        "id": "gUjQetAHo7Bl",
        "colab": {
          "base_uri": "https://localhost:8080/",
          "height": 206
        },
        "outputId": "0b5a119f-dd6e-4c67-f0a4-cc12abcfa437"
      },
      "outputs": [
        {
          "output_type": "execute_result",
          "data": {
            "text/plain": [
              "  BOROUGH  PRICE PER UNIT (MEDIAN)\n",
              "0       1                1117582.0\n",
              "1       2                 188717.5\n",
              "2       3                 302309.0\n",
              "3       4                 263854.0\n",
              "4       5                 299031.0"
            ],
            "text/html": [
              "\n",
              "  <div id=\"df-c5a044d1-0801-46f1-bd55-3b876b2dd7c8\">\n",
              "    <div class=\"colab-df-container\">\n",
              "      <div>\n",
              "<style scoped>\n",
              "    .dataframe tbody tr th:only-of-type {\n",
              "        vertical-align: middle;\n",
              "    }\n",
              "\n",
              "    .dataframe tbody tr th {\n",
              "        vertical-align: top;\n",
              "    }\n",
              "\n",
              "    .dataframe thead th {\n",
              "        text-align: right;\n",
              "    }\n",
              "</style>\n",
              "<table border=\"1\" class=\"dataframe\">\n",
              "  <thead>\n",
              "    <tr style=\"text-align: right;\">\n",
              "      <th></th>\n",
              "      <th>BOROUGH</th>\n",
              "      <th>PRICE PER UNIT (MEDIAN)</th>\n",
              "    </tr>\n",
              "  </thead>\n",
              "  <tbody>\n",
              "    <tr>\n",
              "      <th>0</th>\n",
              "      <td>1</td>\n",
              "      <td>1117582.0</td>\n",
              "    </tr>\n",
              "    <tr>\n",
              "      <th>1</th>\n",
              "      <td>2</td>\n",
              "      <td>188717.5</td>\n",
              "    </tr>\n",
              "    <tr>\n",
              "      <th>2</th>\n",
              "      <td>3</td>\n",
              "      <td>302309.0</td>\n",
              "    </tr>\n",
              "    <tr>\n",
              "      <th>3</th>\n",
              "      <td>4</td>\n",
              "      <td>263854.0</td>\n",
              "    </tr>\n",
              "    <tr>\n",
              "      <th>4</th>\n",
              "      <td>5</td>\n",
              "      <td>299031.0</td>\n",
              "    </tr>\n",
              "  </tbody>\n",
              "</table>\n",
              "</div>\n",
              "      <button class=\"colab-df-convert\" onclick=\"convertToInteractive('df-c5a044d1-0801-46f1-bd55-3b876b2dd7c8')\"\n",
              "              title=\"Convert this dataframe to an interactive table.\"\n",
              "              style=\"display:none;\">\n",
              "        \n",
              "  <svg xmlns=\"http://www.w3.org/2000/svg\" height=\"24px\"viewBox=\"0 0 24 24\"\n",
              "       width=\"24px\">\n",
              "    <path d=\"M0 0h24v24H0V0z\" fill=\"none\"/>\n",
              "    <path d=\"M18.56 5.44l.94 2.06.94-2.06 2.06-.94-2.06-.94-.94-2.06-.94 2.06-2.06.94zm-11 1L8.5 8.5l.94-2.06 2.06-.94-2.06-.94L8.5 2.5l-.94 2.06-2.06.94zm10 10l.94 2.06.94-2.06 2.06-.94-2.06-.94-.94-2.06-.94 2.06-2.06.94z\"/><path d=\"M17.41 7.96l-1.37-1.37c-.4-.4-.92-.59-1.43-.59-.52 0-1.04.2-1.43.59L10.3 9.45l-7.72 7.72c-.78.78-.78 2.05 0 2.83L4 21.41c.39.39.9.59 1.41.59.51 0 1.02-.2 1.41-.59l7.78-7.78 2.81-2.81c.8-.78.8-2.07 0-2.86zM5.41 20L4 18.59l7.72-7.72 1.47 1.35L5.41 20z\"/>\n",
              "  </svg>\n",
              "      </button>\n",
              "      \n",
              "  <style>\n",
              "    .colab-df-container {\n",
              "      display:flex;\n",
              "      flex-wrap:wrap;\n",
              "      gap: 12px;\n",
              "    }\n",
              "\n",
              "    .colab-df-convert {\n",
              "      background-color: #E8F0FE;\n",
              "      border: none;\n",
              "      border-radius: 50%;\n",
              "      cursor: pointer;\n",
              "      display: none;\n",
              "      fill: #1967D2;\n",
              "      height: 32px;\n",
              "      padding: 0 0 0 0;\n",
              "      width: 32px;\n",
              "    }\n",
              "\n",
              "    .colab-df-convert:hover {\n",
              "      background-color: #E2EBFA;\n",
              "      box-shadow: 0px 1px 2px rgba(60, 64, 67, 0.3), 0px 1px 3px 1px rgba(60, 64, 67, 0.15);\n",
              "      fill: #174EA6;\n",
              "    }\n",
              "\n",
              "    [theme=dark] .colab-df-convert {\n",
              "      background-color: #3B4455;\n",
              "      fill: #D2E3FC;\n",
              "    }\n",
              "\n",
              "    [theme=dark] .colab-df-convert:hover {\n",
              "      background-color: #434B5C;\n",
              "      box-shadow: 0px 1px 3px 1px rgba(0, 0, 0, 0.15);\n",
              "      filter: drop-shadow(0px 1px 2px rgba(0, 0, 0, 0.3));\n",
              "      fill: #FFFFFF;\n",
              "    }\n",
              "  </style>\n",
              "\n",
              "      <script>\n",
              "        const buttonEl =\n",
              "          document.querySelector('#df-c5a044d1-0801-46f1-bd55-3b876b2dd7c8 button.colab-df-convert');\n",
              "        buttonEl.style.display =\n",
              "          google.colab.kernel.accessAllowed ? 'block' : 'none';\n",
              "\n",
              "        async function convertToInteractive(key) {\n",
              "          const element = document.querySelector('#df-c5a044d1-0801-46f1-bd55-3b876b2dd7c8');\n",
              "          const dataTable =\n",
              "            await google.colab.kernel.invokeFunction('convertToInteractive',\n",
              "                                                     [key], {});\n",
              "          if (!dataTable) return;\n",
              "\n",
              "          const docLinkHtml = 'Like what you see? Visit the ' +\n",
              "            '<a target=\"_blank\" href=https://colab.research.google.com/notebooks/data_table.ipynb>data table notebook</a>'\n",
              "            + ' to learn more about interactive tables.';\n",
              "          element.innerHTML = '';\n",
              "          dataTable['output_type'] = 'display_data';\n",
              "          await google.colab.output.renderOutput(dataTable, element);\n",
              "          const docLink = document.createElement('div');\n",
              "          docLink.innerHTML = docLinkHtml;\n",
              "          element.appendChild(docLink);\n",
              "        }\n",
              "      </script>\n",
              "    </div>\n",
              "  </div>\n",
              "  "
            ]
          },
          "metadata": {},
          "execution_count": 17
        }
      ],
      "source": [
        "Median=data1.groupby(['BOROUGH']).median()['PRICE PER UNIT'].rename('PRICE PER UNIT (MEDIAN)').reset_index()\n",
        "Median"
      ]
    },
    {
      "cell_type": "markdown",
      "source": [
        "Berdasarkan hasil diatas dapat di ketahui bahwa rata\" harga tiap unit adalah\n",
        "\n",
        "1. Manhattan : 1117582.0\n",
        "2. Bronx : 188717.5\n",
        "3. Brooklyn : 302309.0\n",
        "4. Quens : 263854.0\n",
        "5. Staten Island : 299031.0\n",
        "\n",
        "Sama hal nya dengan rata\" harga bangunan, Manhattan menjadi yang termahal dan Quens sebgai yang terendah"
      ],
      "metadata": {
        "id": "-633y1Fg9sgU"
      }
    },
    {
      "cell_type": "markdown",
      "metadata": {
        "id": "nSdag-9Ho7Bl"
      },
      "source": [
        "####Kemudian, kita dapat menghitung harga bangunan yang paling banyak ditawarkan untuk setiap Borough.\n",
        "\n",
        "Fungsi di bawah ini adalah fungsi bertingkat. (1 Poin)"
      ]
    },
    {
      "cell_type": "code",
      "execution_count": 22,
      "metadata": {
        "id": "WObeavYCo7Bl",
        "colab": {
          "base_uri": "https://localhost:8080/"
        },
        "outputId": "cec0678d-99d9-4d6d-b6f4-a7f273b9fe05"
      },
      "outputs": [
        {
          "output_type": "stream",
          "name": "stdout",
          "text": [
            "Modus: 10\n"
          ]
        }
      ],
      "source": [
        "Modus=stat.mode(data1['BOROUGH'])\n",
        "print(f'Modus: {Modus}' )"
      ]
    },
    {
      "cell_type": "markdown",
      "source": [
        "**Kesimpulan** bahwa harga yang sama banyak ditawarkan pada wilayah ketiga yaitu Brooklyn"
      ],
      "metadata": {
        "id": "w6Ht4CGz_ZDI"
      }
    },
    {
      "cell_type": "markdown",
      "source": [
        "###MEASUREMENT OF VARIANCE"
      ],
      "metadata": {
        "id": "sawvzuvR_9XM"
      }
    },
    {
      "cell_type": "markdown",
      "metadata": {
        "id": "DbZbb9DWo7Bl"
      },
      "source": [
        "####Kemudian, kita dapat menghitung Range harga per unit untuk setiap Borough.\n",
        "\n",
        "Fungsi di bawah ini adalah fungsi bertingkat. (1 Poin)"
      ]
    },
    {
      "cell_type": "code",
      "execution_count": 23,
      "metadata": {
        "id": "EguTHmx1o7Bm",
        "colab": {
          "base_uri": "https://localhost:8080/"
        },
        "outputId": "59d1ba65-26c0-4599-8a6e-f87d49eda4d8"
      },
      "outputs": [
        {
          "output_type": "stream",
          "name": "stdout",
          "text": [
            "Nilai minimum price per unit: 10\n",
            "Nilai maksimum price per unit: 57816250\n",
            "\n",
            "\n",
            "Rentang nilai price per unit: 57816240\n"
          ]
        }
      ],
      "source": [
        "Price_min = data1['PRICE PER UNIT'].min()\n",
        "Price_max = data1['PRICE PER UNIT'].max()\n",
        "print(f'Nilai minimum price per unit: {Price_min}')\n",
        "print(f'Nilai maksimum price per unit: {Price_max}')\n",
        "print('\\n')\n",
        "\n",
        "range = Price_max - Price_min\n",
        "print(f'Rentang nilai price per unit: {range}')"
      ]
    },
    {
      "cell_type": "code",
      "execution_count": 24,
      "metadata": {
        "id": "MN8iq0dlo7Bm",
        "colab": {
          "base_uri": "https://localhost:8080/"
        },
        "outputId": "09b1331c-8f31-4eb0-a8be-33215d7f3e11"
      },
      "outputs": [
        {
          "output_type": "stream",
          "name": "stdout",
          "text": [
            "Nilai minimum price per unit: \n",
            "          PRICE_MIN\n",
            "BOROUGH           \n",
            "1           100402\n",
            "2               10\n",
            "3               10\n",
            "4            32520\n",
            "5            68365\n",
            "\n",
            "\n",
            "Nilai maksimum price per unit: \n",
            "          PRICE_MAX\n",
            "BOROUGH           \n",
            "1          9408643\n",
            "2         11200000\n",
            "3          5011491\n",
            "4          1057731\n",
            "5         57816250\n",
            "\n",
            "\n",
            "Range price per unit based on Borough: \n",
            "   BOROUGH     RANGE\n",
            "0       1   9308241\n",
            "1       2  11199990\n",
            "2       3   5011481\n",
            "3       4   1025211\n",
            "4       5  57747885\n"
          ]
        }
      ],
      "source": [
        "Price_min = data1.groupby('BOROUGH').min()['PRICE PER UNIT'].rename('PRICE_MIN').reset_index().set_index('BOROUGH')\n",
        "Price_max = data1.groupby('BOROUGH').max()['PRICE PER UNIT'].rename('PRICE_MAX').reset_index().set_index('BOROUGH')\n",
        "print('Nilai minimum price per unit: \\n', Price_min)\n",
        "print('\\n')\n",
        "print('Nilai maksimum price per unit: \\n', Price_max)\n",
        "print('\\n')\n",
        "\n",
        "range= Price_max['PRICE_MAX'] - Price_min['PRICE_MIN'] \n",
        "range=range.reset_index().rename({0:'RANGE'}, axis=1)\n",
        "print('Range price per unit based on Borough: \\n',range)"
      ]
    },
    {
      "cell_type": "markdown",
      "metadata": {
        "id": "mrlpPKJvo7Bm"
      },
      "source": [
        "####Selanjutnya, kita dapat menghitung Varians HArga per unit untuk setiap Borough.\n",
        "\n",
        "Fungsi di bawah ini adalah fungsi bertingkat. (1 Poin)"
      ]
    },
    {
      "cell_type": "code",
      "source": [
        "Bor_Varian=data1.groupby('BOROUGH').var()['PRICE PER UNIT'].rename('VARIAN').reset_index().set_index('BOROUGH')\n",
        "Bor_Varian=Bor_Varian.astype({'VARIAN':int})\n",
        "print(Bor_Varian)"
      ],
      "metadata": {
        "colab": {
          "base_uri": "https://localhost:8080/"
        },
        "id": "bYztA66ABZ7L",
        "outputId": "637d2994-c840-4a73-a93d-5c3ca598240b"
      },
      "execution_count": 25,
      "outputs": [
        {
          "output_type": "stream",
          "name": "stdout",
          "text": [
            "                 VARIAN\n",
            "BOROUGH                \n",
            "1         3004176632005\n",
            "2         3192730611002\n",
            "3          496387774682\n",
            "4           33470607066\n",
            "5        57227002338150\n"
          ]
        }
      ]
    },
    {
      "cell_type": "markdown",
      "source": [
        "Berdasarkan hasil diatas wilayah Staten Island memiliki variasi harga per unit yang paling banyak"
      ],
      "metadata": {
        "id": "8L7UkQwgBlJJ"
      }
    },
    {
      "cell_type": "markdown",
      "metadata": {
        "id": "Paci8bSro7Bn"
      },
      "source": [
        "####Selanjutnya, menghitung standar deviasi harga jual per unit untuk setiap Borough.\n",
        "\n",
        "Fungsi di bawah ini adalah fungsi bertingkat. (1 Poin)"
      ]
    },
    {
      "cell_type": "code",
      "execution_count": null,
      "metadata": {
        "id": "jdtDt3U2o7Bn"
      },
      "outputs": [],
      "source": [
        "Bor_stdev=data1.groupby('BOROUGH').std()['PRICE PER UNIT'].rename('ST_DEV').reset_index().set_index('BOROUGH')\n",
        "Bor_stdev=Bor_stdev.astype({'ST_DEV':int})\n",
        "print(Bor_stdev)"
      ]
    },
    {
      "cell_type": "markdown",
      "source": [
        "Berdasarkan hasil diatas sama seperti variasi harga jual per unit, standar deviasi atau persebaran distribusi paling lebar atau secara persebaran data paling luas dari pusat datanya adalah wilayah ke 5, Staten Island"
      ],
      "metadata": {
        "id": "d7AIVk03CIxX"
      }
    },
    {
      "cell_type": "markdown",
      "source": [
        "### DISTRIBUSI DATA"
      ],
      "metadata": {
        "id": "4up3SiXDDaCR"
      }
    },
    {
      "cell_type": "markdown",
      "source": [
        "####Selanjutnya kita lihat **Box Plot** & **Histogram** untuk harga jual per unit"
      ],
      "metadata": {
        "id": "6NoMuLVuDLka"
      }
    },
    {
      "cell_type": "markdown",
      "source": [
        "data unit price wilayah 4"
      ],
      "metadata": {
        "id": "qVV-VqLuP5W3"
      }
    },
    {
      "cell_type": "code",
      "source": [
        "fig, axes = plt.subplots(ncols=3, figsize=(20,8))\n",
        "data1[data1['BOROUGH']=='4']['PRICE PER UNIT'].plot(kind='box', ax=axes[0])\n",
        "data1[data1['BOROUGH']=='4']['PRICE PER UNIT'].plot(kind='hist', ax=axes[1])\n",
        "sns.distplot(data1[data1['BOROUGH']=='4']['PRICE PER UNIT'])"
      ],
      "metadata": {
        "colab": {
          "base_uri": "https://localhost:8080/",
          "height": 580
        },
        "id": "1WNL9H6zDSFb",
        "outputId": "64b5342f-0713-4c44-c70d-93a86c225414"
      },
      "execution_count": 51,
      "outputs": [
        {
          "output_type": "stream",
          "name": "stderr",
          "text": [
            "/usr/local/lib/python3.7/dist-packages/seaborn/distributions.py:2619: FutureWarning: `distplot` is a deprecated function and will be removed in a future version. Please adapt your code to use either `displot` (a figure-level function with similar flexibility) or `histplot` (an axes-level function for histograms).\n",
            "  warnings.warn(msg, FutureWarning)\n"
          ]
        },
        {
          "output_type": "execute_result",
          "data": {
            "text/plain": [
              "<matplotlib.axes._subplots.AxesSubplot at 0x7f895e039dd0>"
            ]
          },
          "metadata": {},
          "execution_count": 51
        },
        {
          "output_type": "display_data",
          "data": {
            "text/plain": [
              "<Figure size 1440x576 with 3 Axes>"
            ],
            "image/png": "[encoded data removed]"
          },
          "metadata": {
            "needs_background": "light"
          }
        }
      ]
    },
    {
      "cell_type": "markdown",
      "source": [
        "Berdasarakan Grafik blox-pot dan histogram diatas didapatkan\n",
        "\n",
        "*   untuk blox-plot dapat terlihat bahwa terdapat outlier untuk data harga jual per unit\n",
        "*   untuk grafik histogram dan displot dapat terlihat bahwa tidak berdistribusi normal, dikarenakan rentang data terbanyak terdapat pada range 0-2, serta data yang berdistribusi normal histogramnya akan membentuk sebuah lonceng \n",
        "\n"
      ],
      "metadata": {
        "id": "ebljHiwMC7M6"
      }
    },
    {
      "cell_type": "markdown",
      "source": [
        "#### Kemudian dapat dilihat dari skewness dan Kurtosis"
      ],
      "metadata": {
        "id": "sv1gn-dRFGx4"
      }
    },
    {
      "cell_type": "code",
      "source": [
        "print('Skewness:')\n",
        "print(data1[data1['BOROUGH']=='4']['PRICE PER UNIT'].skew())\n",
        "print('\\n')\n",
        "\n",
        "print('Kurtosis:')\n",
        "print(data1[data1['BOROUGH']=='4']['PRICE PER UNIT'].kurtosis())"
      ],
      "metadata": {
        "colab": {
          "base_uri": "https://localhost:8080/"
        },
        "id": "AhTwZkAOFJa5",
        "outputId": "736a7878-28a9-4923-f920-81155fdbe6aa"
      },
      "execution_count": 41,
      "outputs": [
        {
          "output_type": "stream",
          "name": "stdout",
          "text": [
            "Skewness:\n",
            "1.9608136007191808\n",
            "\n",
            "\n",
            "Kurtosis:\n",
            "5.201006356798706\n"
          ]
        }
      ]
    },
    {
      "cell_type": "markdown",
      "source": [
        "Berdasarkan dari nilai Skewness dan Kurtosis bahwa data tidak berdistribusi normal (distribusi normal ketika nilai skewness dan kurtosis = 0, dari nilai Skewness > 0 maka data cenderung memiliki kemiringan ke kiri, dan untuk Kurtosis > 5 maka terdapat salah satu range data yang terlalu tinggi"
      ],
      "metadata": {
        "id": "cOqxwZFUF5MB"
      }
    },
    {
      "cell_type": "markdown",
      "source": [
        "####Deteksi Outlier dan Cleaning outlier menggunakan Z-score"
      ],
      "metadata": {
        "id": "V7ZRs-mFG8Uv"
      }
    },
    {
      "cell_type": "markdown",
      "source": [
        "Selanjutnya kita mencoba untuk mendeteksi outlier yang ada, dan coba normalisasi kembali data menggunakan Z-score"
      ],
      "metadata": {
        "id": "-T-5CWX9Iemq"
      }
    },
    {
      "cell_type": "code",
      "source": [
        "lower_limit=data1[data1['BOROUGH']=='4']['PRICE PER UNIT'].mean() - 3 * data1[data1['BOROUGH']=='4']['PRICE PER UNIT'].std()\n",
        "upper_limit=data1[data1['BOROUGH']=='4']['PRICE PER UNIT'].mean() + 3 * data1[data1['BOROUGH']=='4']['PRICE PER UNIT'].std()\n",
        "\n",
        "print(f'Lower limit: {lower_limit}')\n",
        "print(f'Upper limit: {upper_limit}')"
      ],
      "metadata": {
        "colab": {
          "base_uri": "https://localhost:8080/"
        },
        "id": "sUhy6WnTHImD",
        "outputId": "6e0c8f0c-5437-423b-86ee-547a5562c421"
      },
      "execution_count": 42,
      "outputs": [
        {
          "output_type": "stream",
          "name": "stdout",
          "text": [
            "Lower limit: -235018.9934061505\n",
            "Upper limit: 862679.4416820125\n"
          ]
        }
      ]
    },
    {
      "cell_type": "markdown",
      "source": [
        "Diperoleh batas atas dan batas bawah dari data harga per unit\n",
        "selanjutnya dilihat kembali grafik boxplot, histogram serta nilai skewness dan kurtosisnya."
      ],
      "metadata": {
        "id": "0hOrZ-nhIsag"
      }
    },
    {
      "cell_type": "code",
      "source": [
        "PPU_no_outlier1 = data1[data1['BOROUGH']=='4']['PRICE PER UNIT'][(data1['PRICE PER UNIT']>=lower_limit) & (data1['PRICE PER UNIT']<=upper_limit)]\n",
        "\n",
        "fig, axes = plt.subplots(ncols=3, figsize=(20,8))\n",
        "PPU_no_outlier1.plot(kind='box', ax=axes[0])\n",
        "PPU_no_outlier1.plot(kind='hist', ax=axes[1])\n",
        "sns.distplot(PPU_no_outlier1)"
      ],
      "metadata": {
        "colab": {
          "base_uri": "https://localhost:8080/",
          "height": 580
        },
        "id": "_t20YWZZITHP",
        "outputId": "f8663ba9-f03b-4887-85cb-ea31e215cc90"
      },
      "execution_count": 43,
      "outputs": [
        {
          "output_type": "stream",
          "name": "stderr",
          "text": [
            "/usr/local/lib/python3.7/dist-packages/seaborn/distributions.py:2619: FutureWarning: `distplot` is a deprecated function and will be removed in a future version. Please adapt your code to use either `displot` (a figure-level function with similar flexibility) or `histplot` (an axes-level function for histograms).\n",
            "  warnings.warn(msg, FutureWarning)\n"
          ]
        },
        {
          "output_type": "execute_result",
          "data": {
            "text/plain": [
              "<matplotlib.axes._subplots.AxesSubplot at 0x7f895e726210>"
            ]
          },
          "metadata": {},
          "execution_count": 43
        },
        {
          "output_type": "display_data",
          "data": {
            "text/plain": [
              "<Figure size 1440x576 with 3 Axes>"
            ],
            "image/png": "[encoded data removed]"
          },
          "metadata": {
            "needs_background": "light"
          }
        }
      ]
    },
    {
      "cell_type": "code",
      "source": [
        "print('Skewness:')\n",
        "print(PPU_no_outlier1.skew())\n",
        "print('\\n')\n",
        "\n",
        "print('Kurtosis:')\n",
        "print(PPU_no_outlier1.kurtosis())"
      ],
      "metadata": {
        "colab": {
          "base_uri": "https://localhost:8080/"
        },
        "id": "Xr3EMs8ZIcbM",
        "outputId": "5be2478c-4299-42bd-c6b1-050562f65069"
      },
      "execution_count": 44,
      "outputs": [
        {
          "output_type": "stream",
          "name": "stdout",
          "text": [
            "Skewness:\n",
            "0.9630690774346917\n",
            "\n",
            "\n",
            "Kurtosis:\n",
            "1.12212354616734\n"
          ]
        }
      ]
    },
    {
      "cell_type": "markdown",
      "source": [
        "Berdasarkan analisis diatas diperoleh\n",
        "\n",
        "\n",
        "*   Grafik boxplot masih terdapat outlier dengan nilai yang tinggi\n",
        "*   Nilai skewness mendekati 0 sehingga dapat dikatakan mendekati normal namun kurtosis masih > 0 sehingga data masih dikatakan belum normal\n",
        "\n"
      ],
      "metadata": {
        "id": "FVqG2z0QJJLa"
      }
    },
    {
      "cell_type": "markdown",
      "source": [
        "####Cleaning Outlier menggunakan **TUKEY'S RULE**"
      ],
      "metadata": {
        "id": "aouuuav_Je-C"
      }
    },
    {
      "cell_type": "code",
      "source": [
        "from pandas.core.algorithms import quantile\n",
        "q1=data1[data1['BOROUGH']=='4']['PRICE PER UNIT'].quantile(0.25)\n",
        "q3=data1[data1['BOROUGH']=='4']['PRICE PER UNIT'].quantile(0.75)\n",
        "\n",
        "IQR = q3-q1\n",
        "\n",
        "lower_limit = q1 - IQR * 1.5\n",
        "upper_limit = q3 + IQR * 1.5\n",
        "\n",
        "print(f'Lower limit: {lower_limit}')\n",
        "print(f'Upper limit: {upper_limit}')"
      ],
      "metadata": {
        "colab": {
          "base_uri": "https://localhost:8080/"
        },
        "id": "Qfx10t6fJn2N",
        "outputId": "97bf6b56-12d5-4f71-fc35-65f5591be993"
      },
      "execution_count": 45,
      "outputs": [
        {
          "output_type": "stream",
          "name": "stdout",
          "text": [
            "Lower limit: -13163.5\n",
            "Upper limit: 601414.5\n"
          ]
        }
      ]
    },
    {
      "cell_type": "code",
      "source": [
        "PPU_no_outlier1 = data1[data1['BOROUGH']=='4']['PRICE PER UNIT'][(data1['PRICE PER UNIT']>=lower_limit) & (data1['PRICE PER UNIT']<=upper_limit)]\n",
        "\n",
        "fig, axes = plt.subplots(ncols=3, figsize=(20,8))\n",
        "PPU_no_outlier1.plot(kind='box', ax=axes[0])\n",
        "PPU_no_outlier1.plot(kind='hist', ax=axes[1])\n",
        "sns.distplot(PPU_no_outlier1)"
      ],
      "metadata": {
        "colab": {
          "base_uri": "https://localhost:8080/",
          "height": 580
        },
        "id": "n4HMgrHhJqdc",
        "outputId": "6a8634b8-b721-46ef-ae5a-1527a08e3ed0"
      },
      "execution_count": 46,
      "outputs": [
        {
          "output_type": "stream",
          "name": "stderr",
          "text": [
            "/usr/local/lib/python3.7/dist-packages/seaborn/distributions.py:2619: FutureWarning: `distplot` is a deprecated function and will be removed in a future version. Please adapt your code to use either `displot` (a figure-level function with similar flexibility) or `histplot` (an axes-level function for histograms).\n",
            "  warnings.warn(msg, FutureWarning)\n"
          ]
        },
        {
          "output_type": "execute_result",
          "data": {
            "text/plain": [
              "<matplotlib.axes._subplots.AxesSubplot at 0x7f89613ac550>"
            ]
          },
          "metadata": {},
          "execution_count": 46
        },
        {
          "output_type": "display_data",
          "data": {
            "text/plain": [
              "<Figure size 1440x576 with 3 Axes>"
            ],
            "image/png": "[encoded data removed]"
          },
          "metadata": {
            "needs_background": "light"
          }
        }
      ]
    },
    {
      "cell_type": "code",
      "source": [
        "print('Skewness:')\n",
        "print(PPU_no_outlier1.skew())\n",
        "print('\\n')\n",
        "\n",
        "print('Kurtosis:')\n",
        "print(PPU_no_outlier1.kurtosis())"
      ],
      "metadata": {
        "colab": {
          "base_uri": "https://localhost:8080/"
        },
        "id": "-S01-mwhJv6o",
        "outputId": "8d9c5681-013f-4635-bbcc-5296f1e3f63b"
      },
      "execution_count": 47,
      "outputs": [
        {
          "output_type": "stream",
          "name": "stdout",
          "text": [
            "Skewness:\n",
            "0.6249500555051679\n",
            "\n",
            "\n",
            "Kurtosis:\n",
            "0.6211420428796974\n"
          ]
        }
      ]
    },
    {
      "cell_type": "markdown",
      "source": [
        "Berdasarkan analisis diatas diperoleh\n",
        "\n",
        "* batas atas dan batas bawah dari data harga per unit Lower limit: -1365991.0,\n",
        "Upper limit: 3335761.0\n",
        "* Grafik boxplot outlier sudah tidak terlihat namun grafik masih lebih mengarah ke nilai yang rendah\n",
        "* Nilai skewness dan kurtosis sudah mendekati 0 sehingga data masih dikatakan normal"
      ],
      "metadata": {
        "id": "bmEKAq9QJ2VP"
      }
    },
    {
      "cell_type": "markdown",
      "source": [
        "####Korelasi BOROUGH"
      ],
      "metadata": {
        "id": "Zb0F_nTVKaK7"
      }
    },
    {
      "cell_type": "code",
      "source": [
        "data1.corr()"
      ],
      "metadata": {
        "colab": {
          "base_uri": "https://localhost:8080/",
          "height": 175
        },
        "id": "C8ZH31SsKfeB",
        "outputId": "9a480eb0-0a31-4bd5-a57e-746c3ba978bd"
      },
      "execution_count": 38,
      "outputs": [
        {
          "output_type": "execute_result",
          "data": {
            "text/plain": [
              "                   index  TOTAL UNITS  SALE PRICE  PRICE PER UNIT\n",
              "index           1.000000    -0.301683   -0.435852       -0.017853\n",
              "TOTAL UNITS    -0.301683     1.000000    0.464021       -0.077446\n",
              "SALE PRICE     -0.435852     0.464021    1.000000        0.125261\n",
              "PRICE PER UNIT -0.017853    -0.077446    0.125261        1.000000"
            ],
            "text/html": [
              "\n",
              "  <div id=\"df-1ac0bf8c-8d13-4d8a-b229-d9d4d8a7226a\">\n",
              "    <div class=\"colab-df-container\">\n",
              "      <div>\n",
              "<style scoped>\n",
              "    .dataframe tbody tr th:only-of-type {\n",
              "        vertical-align: middle;\n",
              "    }\n",
              "\n",
              "    .dataframe tbody tr th {\n",
              "        vertical-align: top;\n",
              "    }\n",
              "\n",
              "    .dataframe thead th {\n",
              "        text-align: right;\n",
              "    }\n",
              "</style>\n",
              "<table border=\"1\" class=\"dataframe\">\n",
              "  <thead>\n",
              "    <tr style=\"text-align: right;\">\n",
              "      <th></th>\n",
              "      <th>index</th>\n",
              "      <th>TOTAL UNITS</th>\n",
              "      <th>SALE PRICE</th>\n",
              "      <th>PRICE PER UNIT</th>\n",
              "    </tr>\n",
              "  </thead>\n",
              "  <tbody>\n",
              "    <tr>\n",
              "      <th>index</th>\n",
              "      <td>1.000000</td>\n",
              "      <td>-0.301683</td>\n",
              "      <td>-0.435852</td>\n",
              "      <td>-0.017853</td>\n",
              "    </tr>\n",
              "    <tr>\n",
              "      <th>TOTAL UNITS</th>\n",
              "      <td>-0.301683</td>\n",
              "      <td>1.000000</td>\n",
              "      <td>0.464021</td>\n",
              "      <td>-0.077446</td>\n",
              "    </tr>\n",
              "    <tr>\n",
              "      <th>SALE PRICE</th>\n",
              "      <td>-0.435852</td>\n",
              "      <td>0.464021</td>\n",
              "      <td>1.000000</td>\n",
              "      <td>0.125261</td>\n",
              "    </tr>\n",
              "    <tr>\n",
              "      <th>PRICE PER UNIT</th>\n",
              "      <td>-0.017853</td>\n",
              "      <td>-0.077446</td>\n",
              "      <td>0.125261</td>\n",
              "      <td>1.000000</td>\n",
              "    </tr>\n",
              "  </tbody>\n",
              "</table>\n",
              "</div>\n",
              "      <button class=\"colab-df-convert\" onclick=\"convertToInteractive('df-1ac0bf8c-8d13-4d8a-b229-d9d4d8a7226a')\"\n",
              "              title=\"Convert this dataframe to an interactive table.\"\n",
              "              style=\"display:none;\">\n",
              "        \n",
              "  <svg xmlns=\"http://www.w3.org/2000/svg\" height=\"24px\"viewBox=\"0 0 24 24\"\n",
              "       width=\"24px\">\n",
              "    <path d=\"M0 0h24v24H0V0z\" fill=\"none\"/>\n",
              "    <path d=\"M18.56 5.44l.94 2.06.94-2.06 2.06-.94-2.06-.94-.94-2.06-.94 2.06-2.06.94zm-11 1L8.5 8.5l.94-2.06 2.06-.94-2.06-.94L8.5 2.5l-.94 2.06-2.06.94zm10 10l.94 2.06.94-2.06 2.06-.94-2.06-.94-.94-2.06-.94 2.06-2.06.94z\"/><path d=\"M17.41 7.96l-1.37-1.37c-.4-.4-.92-.59-1.43-.59-.52 0-1.04.2-1.43.59L10.3 9.45l-7.72 7.72c-.78.78-.78 2.05 0 2.83L4 21.41c.39.39.9.59 1.41.59.51 0 1.02-.2 1.41-.59l7.78-7.78 2.81-2.81c.8-.78.8-2.07 0-2.86zM5.41 20L4 18.59l7.72-7.72 1.47 1.35L5.41 20z\"/>\n",
              "  </svg>\n",
              "      </button>\n",
              "      \n",
              "  <style>\n",
              "    .colab-df-container {\n",
              "      display:flex;\n",
              "      flex-wrap:wrap;\n",
              "      gap: 12px;\n",
              "    }\n",
              "\n",
              "    .colab-df-convert {\n",
              "      background-color: #E8F0FE;\n",
              "      border: none;\n",
              "      border-radius: 50%;\n",
              "      cursor: pointer;\n",
              "      display: none;\n",
              "      fill: #1967D2;\n",
              "      height: 32px;\n",
              "      padding: 0 0 0 0;\n",
              "      width: 32px;\n",
              "    }\n",
              "\n",
              "    .colab-df-convert:hover {\n",
              "      background-color: #E2EBFA;\n",
              "      box-shadow: 0px 1px 2px rgba(60, 64, 67, 0.3), 0px 1px 3px 1px rgba(60, 64, 67, 0.15);\n",
              "      fill: #174EA6;\n",
              "    }\n",
              "\n",
              "    [theme=dark] .colab-df-convert {\n",
              "      background-color: #3B4455;\n",
              "      fill: #D2E3FC;\n",
              "    }\n",
              "\n",
              "    [theme=dark] .colab-df-convert:hover {\n",
              "      background-color: #434B5C;\n",
              "      box-shadow: 0px 1px 3px 1px rgba(0, 0, 0, 0.15);\n",
              "      filter: drop-shadow(0px 1px 2px rgba(0, 0, 0, 0.3));\n",
              "      fill: #FFFFFF;\n",
              "    }\n",
              "  </style>\n",
              "\n",
              "      <script>\n",
              "        const buttonEl =\n",
              "          document.querySelector('#df-1ac0bf8c-8d13-4d8a-b229-d9d4d8a7226a button.colab-df-convert');\n",
              "        buttonEl.style.display =\n",
              "          google.colab.kernel.accessAllowed ? 'block' : 'none';\n",
              "\n",
              "        async function convertToInteractive(key) {\n",
              "          const element = document.querySelector('#df-1ac0bf8c-8d13-4d8a-b229-d9d4d8a7226a');\n",
              "          const dataTable =\n",
              "            await google.colab.kernel.invokeFunction('convertToInteractive',\n",
              "                                                     [key], {});\n",
              "          if (!dataTable) return;\n",
              "\n",
              "          const docLinkHtml = 'Like what you see? Visit the ' +\n",
              "            '<a target=\"_blank\" href=https://colab.research.google.com/notebooks/data_table.ipynb>data table notebook</a>'\n",
              "            + ' to learn more about interactive tables.';\n",
              "          element.innerHTML = '';\n",
              "          dataTable['output_type'] = 'display_data';\n",
              "          await google.colab.output.renderOutput(dataTable, element);\n",
              "          const docLink = document.createElement('div');\n",
              "          docLink.innerHTML = docLinkHtml;\n",
              "          element.appendChild(docLink);\n",
              "        }\n",
              "      </script>\n",
              "    </div>\n",
              "  </div>\n",
              "  "
            ]
          },
          "metadata": {},
          "execution_count": 38
        }
      ]
    },
    {
      "cell_type": "code",
      "source": [
        "sns.heatmap(data1.corr(),annot=True)"
      ],
      "metadata": {
        "colab": {
          "base_uri": "https://localhost:8080/",
          "height": 354
        },
        "id": "OKgjPz5lLKFK",
        "outputId": "1fb5546e-4c64-4ce2-ab98-262283b556d2"
      },
      "execution_count": 39,
      "outputs": [
        {
          "output_type": "execute_result",
          "data": {
            "text/plain": [
              "<matplotlib.axes._subplots.AxesSubplot at 0x7f89611e3490>"
            ]
          },
          "metadata": {},
          "execution_count": 39
        },
        {
          "output_type": "display_data",
          "data": {
            "text/plain": [
              "<Figure size 432x288 with 2 Axes>"
            ],
            "image/png": "[encoded data removed]"
          },
          "metadata": {
            "needs_background": "light"
          }
        }
      ]
    },
    {
      "cell_type": "markdown",
      "source": [
        "Korelasi yang paling kuat antara total unit & Sale Price"
      ],
      "metadata": {
        "id": "T1SpbJwaMZVY"
      }
    },
    {
      "cell_type": "markdown",
      "source": [
        "##STATISTIC INFERENSIA"
      ],
      "metadata": {
        "id": "MqT9Cl_hMiJ7"
      }
    },
    {
      "cell_type": "markdown",
      "source": [
        "Membuat sebuah hipotesa awal dimana jika diketahui bahwa rata2 harga per unit wilayah 4 pada tahun sebelumnya adalah 250000. Untuk itu dilakukan pengujian apakah harga unit di wilayah 4 pada tahun ini mengalami kenaikan yang signifikan atau tidak.\n",
        "\n",
        "Hipotesis:\n",
        "\n",
        "H0: μ <= 250000\n",
        "\n",
        "H1: μ > 250000\n",
        "\n",
        "dengan Taraf signifikansi (alpha) = 5%"
      ],
      "metadata": {
        "id": "WNPI_y2MM8P1"
      }
    },
    {
      "cell_type": "code",
      "source": [
        "t_stat, pval=stats.ttest_1samp(PPU_no_outlier1, 800000)\n",
        "print('P-value', pval/2)\n",
        "print('t-statistics', t_stat)"
      ],
      "metadata": {
        "colab": {
          "base_uri": "https://localhost:8080/"
        },
        "id": "iRKdzkY7NZJG",
        "outputId": "31f9f093-63aa-4f5b-da86-b45e337b3b64"
      },
      "execution_count": 52,
      "outputs": [
        {
          "output_type": "stream",
          "name": "stdout",
          "text": [
            "P-value 1.1316619339620942e-37\n",
            "t-statistics -33.54192292415073\n"
          ]
        }
      ]
    },
    {
      "cell_type": "code",
      "source": [
        "PPU_no_outlier1_pop = np.random.normal(PPU_no_outlier1.mean(), PPU_no_outlier1.std(), 100000)\n",
        "\n",
        "CI=stats.norm.interval(0.90, PPU_no_outlier1.mean(), PPU_no_outlier1.std())\n",
        "\n",
        "plt.figure(figsize=(16,5))\n",
        "sns.distplot(PPU_no_outlier1_pop, label='Unit Price (Population)', color='magenta')\n",
        "plt.axvline(PPU_no_outlier1.mean(), color='green', label='PPU_no_outlier (mean)')\n",
        "plt.axvline(CI[1], color='red', linewidth=3, label='confident level threshold 95%')\n",
        "plt.axvline(PPU_no_outlier1_pop.mean() + t_stat*PPU_no_outlier1_pop.std(), color='black', linestyle='dashed', linewidth=2, label='Hipotesis alternatif')\n",
        "plt.legend()"
      ],
      "metadata": {
        "colab": {
          "base_uri": "https://localhost:8080/",
          "height": 416
        },
        "id": "QfeMIQ-2OuDo",
        "outputId": "18edc162-64aa-44b4-df8b-07cf0dab6549"
      },
      "execution_count": 53,
      "outputs": [
        {
          "output_type": "stream",
          "name": "stderr",
          "text": [
            "/usr/local/lib/python3.7/dist-packages/seaborn/distributions.py:2619: FutureWarning: `distplot` is a deprecated function and will be removed in a future version. Please adapt your code to use either `displot` (a figure-level function with similar flexibility) or `histplot` (an axes-level function for histograms).\n",
            "  warnings.warn(msg, FutureWarning)\n"
          ]
        },
        {
          "output_type": "execute_result",
          "data": {
            "text/plain": [
              "<matplotlib.legend.Legend at 0x7f895de3ad10>"
            ]
          },
          "metadata": {},
          "execution_count": 53
        },
        {
          "output_type": "display_data",
          "data": {
            "text/plain": [
              "<Figure size 1152x360 with 1 Axes>"
            ],
            "image/png": "[encoded data removed]"
          },
          "metadata": {
            "needs_background": "light"
          }
        }
      ]
    },
    {
      "cell_type": "markdown",
      "source": [
        "Karena nilai p lebih dari 0,05, sehingga hipotesis nol diterima dan disimpulkan bahwa rata-rata harga unit bangunan tahun ini tidak lebih besar dari harga unit pada tahun sebelumnya.\n",
        "\n",
        "Catatan: Variabel t-statistik mengacu pada seberapa jauh hipotesis alternatif dari hipotesis nol."
      ],
      "metadata": {
        "id": "zs-tuoTvO_g2"
      }
    },
    {
      "cell_type": "markdown",
      "source": [
        "###TWO SAMPLES INDEPENDENT TWO TAILES HYPOTHESIS TESTING"
      ],
      "metadata": {
        "id": "E2kiTzwMPd10"
      }
    },
    {
      "cell_type": "markdown",
      "source": [
        "Data unit price wilayah 1"
      ],
      "metadata": {
        "id": "q_omi_eNPjze"
      }
    },
    {
      "cell_type": "code",
      "source": [
        "from pandas.core.algorithms import quantile\n",
        "q1_2=data1[data1['BOROUGH']=='1']['PRICE PER UNIT'].quantile(0.25)\n",
        "q3_2=data1[data1['BOROUGH']=='1']['PRICE PER UNIT'].quantile(0.75)\n",
        "\n",
        "IQR_2 = q3_2-q1_2\n",
        "\n",
        "lower_limit_2 = q1_2 - IQR * 1.5\n",
        "upper_limit_2 = q3_2 + IQR * 1.5\n",
        "\n",
        "print(f'Lower limit: {lower_limit_2}')\n",
        "print(f'Upper limit: {upper_limit_2}')"
      ],
      "metadata": {
        "colab": {
          "base_uri": "https://localhost:8080/"
        },
        "id": "KBS2UOHNPfYu",
        "outputId": "939f2fdc-5dcc-48a0-f00f-c5051b00523a"
      },
      "execution_count": 54,
      "outputs": [
        {
          "output_type": "stream",
          "name": "stdout",
          "text": [
            "Lower limit: 166699.25\n",
            "Upper limit: 1803070.75\n"
          ]
        }
      ]
    },
    {
      "cell_type": "code",
      "source": [
        "PPU_no_outlier2 = data1[data1['BOROUGH']=='1']['PRICE PER UNIT'][(data1['PRICE PER UNIT']>=lower_limit_2) & (data1['PRICE PER UNIT']<=upper_limit_2)]\n",
        "\n",
        "fig, axes = plt.subplots(ncols=3, figsize=(20,8))\n",
        "PPU_no_outlier2.plot(kind='box', ax=axes[0])\n",
        "PPU_no_outlier2.plot(kind='hist', ax=axes[1])\n",
        "sns.distplot(PPU_no_outlier2)"
      ],
      "metadata": {
        "colab": {
          "base_uri": "https://localhost:8080/",
          "height": 580
        },
        "id": "LRESQA8vPqAq",
        "outputId": "0c98f595-8ab5-422c-afb4-754adb0ee594"
      },
      "execution_count": 57,
      "outputs": [
        {
          "output_type": "stream",
          "name": "stderr",
          "text": [
            "/usr/local/lib/python3.7/dist-packages/seaborn/distributions.py:2619: FutureWarning: `distplot` is a deprecated function and will be removed in a future version. Please adapt your code to use either `displot` (a figure-level function with similar flexibility) or `histplot` (an axes-level function for histograms).\n",
            "  warnings.warn(msg, FutureWarning)\n"
          ]
        },
        {
          "output_type": "execute_result",
          "data": {
            "text/plain": [
              "<matplotlib.axes._subplots.AxesSubplot at 0x7f895dc2a990>"
            ]
          },
          "metadata": {},
          "execution_count": 57
        },
        {
          "output_type": "display_data",
          "data": {
            "text/plain": [
              "<Figure size 1440x576 with 3 Axes>"
            ],
            "image/png": "[encoded data removed]"
          },
          "metadata": {
            "needs_background": "light"
          }
        }
      ]
    },
    {
      "cell_type": "code",
      "source": [
        "print('Skewness:')\n",
        "print(PPU_no_outlier2.skew())\n",
        "print('\\n')\n",
        "\n",
        "print('Kurtosis:')\n",
        "print(PPU_no_outlier2.kurtosis())"
      ],
      "metadata": {
        "colab": {
          "base_uri": "https://localhost:8080/"
        },
        "id": "lp0IkXgWPum7",
        "outputId": "f882b3c8-c564-4c5d-9da8-8a04d4e583c0"
      },
      "execution_count": 58,
      "outputs": [
        {
          "output_type": "stream",
          "name": "stdout",
          "text": [
            "Skewness:\n",
            "0.15799168297970667\n",
            "\n",
            "\n",
            "Kurtosis:\n",
            "-1.6279569390040654\n"
          ]
        }
      ]
    },
    {
      "cell_type": "markdown",
      "source": [
        "**Kasus**: Apakah rata-rata unit price di wilayah 1 sama dengan wilayah 4?\n",
        "\n",
        "Hipotesis:\n",
        "\n",
        "H0: μ1 = μ5\n",
        "\n",
        "H1: μ1 != μ5\n",
        "\n",
        "Taraf signifikansi (alpha) = 5%"
      ],
      "metadata": {
        "id": "i-PNjioPQCOS"
      }
    },
    {
      "cell_type": "code",
      "source": [
        "t_stat, p_val = stats.ttest_ind(PPU_no_outlier1,PPU_no_outlier2)\n",
        "print('P-value:',p_val)\n",
        "print('t-statistics:',t_stat)"
      ],
      "metadata": {
        "colab": {
          "base_uri": "https://localhost:8080/"
        },
        "id": "cJyJyXEdQP8r",
        "outputId": "b7d26813-696b-4e97-cff8-17e993198861"
      },
      "execution_count": 59,
      "outputs": [
        {
          "output_type": "stream",
          "name": "stdout",
          "text": [
            "P-value: 1.0979735855192594e-11\n",
            "t-statistics: -7.916291744926026\n"
          ]
        }
      ]
    },
    {
      "cell_type": "code",
      "source": [
        "PPU_no_outlier1_pop = np.random.normal(PPU_no_outlier1.mean(),PPU_no_outlier1.std(),100000)\n",
        "PPU_no_outlier2_pop = np.random.normal(PPU_no_outlier2.mean(),PPU_no_outlier2.std(),100000)\n",
        "\n",
        "ci = stats.norm.interval(0.95, PPU_no_outlier1.mean(), PPU_no_outlier1.std())\n",
        "plt.figure(figsize=(16,5))\n",
        "sns.distplot(PPU_no_outlier1_pop, label='Unit price wilayah 4 *Pop',color='Brown')\n",
        "sns.distplot(PPU_no_outlier2_pop, label='Unit price wilayah 1 *Pop',color='red')\n",
        "\n",
        "plt.axvline(PPU_no_outlier1.mean(), color='blue', linewidth=2, label='France mean')\n",
        "plt.axvline(PPU_no_outlier2.mean(), color='red',  linewidth=2, label='Germany mean')\n",
        "\n",
        "plt.axvline(ci[1], color='green', linestyle='dashed', linewidth=2, label='confidence threshold of 95%')\n",
        "plt.axvline(ci[0], color='green', linestyle='dashed', linewidth=2)\n",
        "\n",
        "plt.axvline(PPU_no_outlier1_pop.mean()+t_stat*PPU_no_outlier1_pop.std(), color='black', linestyle='dashed', linewidth=2, label = 'Alternative Hypothesis')\n",
        "plt.axvline(PPU_no_outlier1_pop.mean()-t_stat*PPU_no_outlier1_pop.std(), color='black', linestyle='dashed', linewidth=2)\n",
        "\n",
        "plt.legend()"
      ],
      "metadata": {
        "colab": {
          "base_uri": "https://localhost:8080/",
          "height": 451
        },
        "id": "sQs9PsJVQS_C",
        "outputId": "8c3a8b34-43f9-44b6-e288-ad66c54af0d2"
      },
      "execution_count": 60,
      "outputs": [
        {
          "output_type": "stream",
          "name": "stderr",
          "text": [
            "/usr/local/lib/python3.7/dist-packages/seaborn/distributions.py:2619: FutureWarning: `distplot` is a deprecated function and will be removed in a future version. Please adapt your code to use either `displot` (a figure-level function with similar flexibility) or `histplot` (an axes-level function for histograms).\n",
            "  warnings.warn(msg, FutureWarning)\n",
            "/usr/local/lib/python3.7/dist-packages/seaborn/distributions.py:2619: FutureWarning: `distplot` is a deprecated function and will be removed in a future version. Please adapt your code to use either `displot` (a figure-level function with similar flexibility) or `histplot` (an axes-level function for histograms).\n",
            "  warnings.warn(msg, FutureWarning)\n"
          ]
        },
        {
          "output_type": "execute_result",
          "data": {
            "text/plain": [
              "<matplotlib.legend.Legend at 0x7f895dc5f150>"
            ]
          },
          "metadata": {},
          "execution_count": 60
        },
        {
          "output_type": "display_data",
          "data": {
            "text/plain": [
              "<Figure size 1152x360 with 1 Axes>"
            ],
            "image/png": "[encoded data removed]"
          },
          "metadata": {
            "needs_background": "light"
          }
        }
      ]
    },
    {
      "cell_type": "markdown",
      "source": [
        "karena P-value = 1.0979735855192594e-11< 0.05 maka H0 ditolak, artinya rata-rata unit price wilayah 4 dengan wilayah 1 berbeda secara signifikan"
      ],
      "metadata": {
        "id": "LhtNMKQZQakK"
      }
    }
  ],
  "metadata": {
    "kernelspec": {
      "display_name": "Python 3",
      "language": "python",
      "name": "python3"
    },
    "language_info": {
      "codemirror_mode": {
        "name": "ipython",
        "version": 3
      },
      "file_extension": ".py",
      "mimetype": "text/x-python",
      "name": "python",
      "nbconvert_exporter": "python",
      "pygments_lexer": "ipython3",
      "version": "3.8.5"
    },
    "toc": {
      "base_numbering": 1,
      "nav_menu": {},
      "number_sections": true,
      "sideBar": true,
      "skip_h1_title": false,
      "title_cell": "Table of Contents",
      "title_sidebar": "Contents",
      "toc_cell": false,
      "toc_position": {},
      "toc_section_display": true,
      "toc_window_display": false
    },
    "colab": {
      "name": "Assignment2-starter.ipynb",
      "provenance": [],
      "collapsed_sections": [
        "1JHyRxJUo7BB",
        "Iy0Xncvgo7BK",
        "o_ftOVWno7Bh",
        "66EOKtcWo7Bh",
        "aPYyq1WDo7Bi",
        "ZO6f-1_4uGBW",
        "SPGyqwwrwHhR",
        "BiBOUpaPwTtP",
        "u87PcPYf2wZL",
        "AzhjKz9ir6go",
        "9usWVO1_o7Bk",
        "y88f9IUho7Bk",
        "nSdag-9Ho7Bl",
        "sawvzuvR_9XM",
        "DbZbb9DWo7Bl",
        "mrlpPKJvo7Bm",
        "Paci8bSro7Bn",
        "4up3SiXDDaCR",
        "6NoMuLVuDLka",
        "sv1gn-dRFGx4",
        "V7ZRs-mFG8Uv",
        "aouuuav_Je-C",
        "Zb0F_nTVKaK7"
      ],
      "include_colab_link": true
    }
  },
  "nbformat": 4,
  "nbformat_minor": 0
}